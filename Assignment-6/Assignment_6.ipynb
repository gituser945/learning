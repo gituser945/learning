{
 "cells": [
  {
   "cell_type": "markdown",
   "metadata": {},
   "source": [
    "### Assignment - 6 - python"
   ]
  },
  {
   "cell_type": "markdown",
   "metadata": {},
   "source": [
    "#### Question - 1\n",
    "***\n",
    "What are escape characters, and how do you use them?"
   ]
  },
  {
   "cell_type": "markdown",
   "metadata": {},
   "source": [
    "#### Answer :\n",
    "In python the escape character as basically used to represent whitespace characters.Different types of escape characters are \\t used to represent tab, \\n used to represent new line and \\r is used for carriage return."
   ]
  },
  {
   "cell_type": "markdown",
   "metadata": {},
   "source": [
    "#### Question - 2\n",
    "***\n",
    "What do the escape characters n and t stand for?"
   ]
  },
  {
   "cell_type": "markdown",
   "metadata": {},
   "source": [
    "#### Answer :\n",
    "\\t used to represent tab, \\n used to represent new line."
   ]
  },
  {
   "cell_type": "markdown",
   "metadata": {},
   "source": [
    "#### Question - 3\n",
    "***\n",
    "What is the way to include backslash characters in a string?"
   ]
  },
  {
   "cell_type": "markdown",
   "metadata": {},
   "source": [
    "#### Answer : \n",
    "We can include backslash characters in string by using double quotes."
   ]
  },
  {
   "cell_type": "code",
   "execution_count": 8,
   "metadata": {},
   "outputs": [
    {
     "data": {
      "text/plain": [
       "'abc\\\\nxyz'"
      ]
     },
     "execution_count": 8,
     "metadata": {},
     "output_type": "execute_result"
    }
   ],
   "source": [
    "string = \"abc\\\\nxyz\"\n",
    "string"
   ]
  },
  {
   "cell_type": "markdown",
   "metadata": {},
   "source": [
    "#### Quesion - 4\n",
    "***\n",
    "The string \"Howl's Moving Castle\" is a correct value. Why isn't the single quote character in the word Howl's not escaped a problem?"
   ]
  },
  {
   "cell_type": "markdown",
   "metadata": {},
   "source": [
    "#### Answer :\n",
    "This is because the entire string is enclosed inside double quotes (\"\") if it would have been closed inside single quotes then it would have been escaped problem."
   ]
  },
  {
   "cell_type": "markdown",
   "metadata": {},
   "source": [
    "#### Question - 5\n",
    "***\n",
    "How do you write a string of newlines if you don't want to use the n character?"
   ]
  },
  {
   "cell_type": "markdown",
   "metadata": {},
   "source": [
    "#### Answer : "
   ]
  },
  {
   "cell_type": "code",
   "execution_count": 52,
   "metadata": {},
   "outputs": [
    {
     "name": "stdout",
     "output_type": "stream",
     "text": [
      "this\n",
      "is\n",
      "new\n",
      "line\n"
     ]
    }
   ],
   "source": [
    "string = \"this is new line\"\n",
    "\n",
    "for i in string.split():\n",
    "    print(i)"
   ]
  },
  {
   "cell_type": "markdown",
   "metadata": {},
   "source": [
    "#### Question - 6\n",
    "***\n",
    "What are the values of the given expressions?\n",
    "<br>'Hello, world!'[1]\n",
    "<br>'Hello, world!'[0:5]\n",
    "<br>'Hello, world!'[:5]\n",
    "<br>'Hello, world!'[3:]"
   ]
  },
  {
   "cell_type": "markdown",
   "metadata": {},
   "source": [
    "#### Answer :\n",
    "\n",
    " 'Hello,world!'[1] = 'e'\n",
    "<br>'Hello, world!'[0:5] = 'Hello'\n",
    "<br>'Hello, world!'[:5] = 'Hello'\n",
    "<br>'Hello, world!'[3:] = 'lo,world!'"
   ]
  },
  {
   "cell_type": "markdown",
   "metadata": {},
   "source": [
    "#### Question - 7\n",
    "***\n",
    "What are the values of the following expressions?\n",
    "<br>'Hello'.upper()\n",
    "<br>'Hello'.upper().isupper()\n",
    "<br>'Hello'.upper().lower()"
   ]
  },
  {
   "cell_type": "markdown",
   "metadata": {},
   "source": [
    "#### Answer :\n",
    "'Hello'.upper() = 'HELLO'\n",
    "<br>'Hello'.upper().isupper() = True\n",
    "<br>'Hello'.upper().lower() = 'hello'"
   ]
  },
  {
   "cell_type": "markdown",
   "metadata": {},
   "source": [
    "#### Question - 8\n",
    "***\n",
    "What are the values of the following expressions?\n",
    "<br>'Remember, remember, the fifth of July.'.split()\n",
    "<br>'-'.join('There can only one.'.split())"
   ]
  },
  {
   "cell_type": "markdown",
   "metadata": {},
   "source": [
    "#### Answer :\n",
    "'Remember, remember, the fifth of July.'.split() = ['Remember,','remember,','the','fifth','of','July.']\n",
    "<br>'-'.join('There can only one.'.split()) = 'There-can-only-one.'"
   ]
  },
  {
   "cell_type": "markdown",
   "metadata": {},
   "source": [
    "#### Question - 9\n",
    "***\n",
    "What are the methods for right-justifying, left-justifying, and centering a string?"
   ]
  },
  {
   "cell_type": "markdown",
   "metadata": {},
   "source": [
    "#### Answer :\n",
    "rjust()\n",
    "<br>ljust()\n",
    "<br>center()"
   ]
  },
  {
   "cell_type": "code",
   "execution_count": 31,
   "metadata": {},
   "outputs": [
    {
     "name": "stdout",
     "output_type": "stream",
     "text": [
      "This is test----------------------------\n",
      "----------------------------This is test\n",
      "--------------This is test--------------\n"
     ]
    }
   ],
   "source": [
    "# example\n",
    "\n",
    "string = \"This is test\"\n",
    "\n",
    "# ljust\n",
    "\n",
    "print(string.ljust(40,\"-\"))\n",
    "\n",
    "# rjust\n",
    "\n",
    "print(string.rjust(40,\"-\"))\n",
    "\n",
    "# center\n",
    "\n",
    "print(string.center(40,\"-\"))"
   ]
  },
  {
   "cell_type": "markdown",
   "metadata": {},
   "source": [
    "#### Question - 10\n",
    "***\n"
   ]
  },
  {
   "cell_type": "markdown",
   "metadata": {},
   "source": [
    "#### Answer :\n",
    "By using strip function we can simply remove whitespace from start and end on one go."
   ]
  },
  {
   "cell_type": "code",
   "execution_count": 32,
   "metadata": {},
   "outputs": [
    {
     "name": "stdout",
     "output_type": "stream",
     "text": [
      "This is test\n"
     ]
    }
   ],
   "source": [
    "# python example\n",
    "\n",
    "string1 = \"   abc  \"\n",
    "print(string.strip())"
   ]
  }
 ],
 "metadata": {
  "kernelspec": {
   "display_name": "Python 3",
   "language": "python",
   "name": "python3"
  },
  "language_info": {
   "codemirror_mode": {
    "name": "ipython",
    "version": 3
   },
   "file_extension": ".py",
   "mimetype": "text/x-python",
   "name": "python",
   "nbconvert_exporter": "python",
   "pygments_lexer": "ipython3",
   "version": "3.8.5"
  }
 },
 "nbformat": 4,
 "nbformat_minor": 4
}
