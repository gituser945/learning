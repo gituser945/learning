{
 "cells": [
  {
   "cell_type": "markdown",
   "id": "general-consideration",
   "metadata": {},
   "source": [
    "#### Programming Assignment - 2"
   ]
  },
  {
   "cell_type": "markdown",
   "id": "hybrid-music",
   "metadata": {},
   "source": [
    "#### Question - 1\n",
    "***\n",
    "Write a Python program to convert kilometers to miles"
   ]
  },
  {
   "cell_type": "markdown",
   "id": "quick-outdoors",
   "metadata": {},
   "source": [
    "#### Solution :\n",
    "The formula to convert kilometer to miles is kilometer = 1/1.609"
   ]
  },
  {
   "cell_type": "code",
   "execution_count": 18,
   "id": "headed-brook",
   "metadata": {},
   "outputs": [
    {
     "name": "stdin",
     "output_type": "stream",
     "text": [
      "Enter kilometer value to convert to miles: 100\n"
     ]
    },
    {
     "name": "stdout",
     "output_type": "stream",
     "text": [
      "100 kilometer = 62.15040397762586 miles\n"
     ]
    }
   ],
   "source": [
    "inp1 = int(input(\"Enter kilometer value to convert to miles:\"))\n",
    "\n",
    "miles = inp1/1.609\n",
    "\n",
    "print(\"{} kilometer = {} miles\".format(inp1,miles))"
   ]
  },
  {
   "cell_type": "markdown",
   "id": "administrative-singing",
   "metadata": {},
   "source": [
    "#### Question - 2\n",
    "***\n",
    "Write a Python program to convert Celsius to Fahrenheit?"
   ]
  },
  {
   "cell_type": "markdown",
   "id": "wicked-violation",
   "metadata": {},
   "source": [
    "#### Solution :\n",
    "The formula for Celsius to Fahrenheit is celsius = (celcius × 9/5) + 32"
   ]
  },
  {
   "cell_type": "code",
   "execution_count": 17,
   "id": "western-blake",
   "metadata": {},
   "outputs": [
    {
     "name": "stdin",
     "output_type": "stream",
     "text": [
      "Enter celsius value: 37\n"
     ]
    },
    {
     "name": "stdout",
     "output_type": "stream",
     "text": [
      "37 celcius = 98.6 Fahrenheit\n"
     ]
    }
   ],
   "source": [
    "celcius = int(input(\"Enter celsius value:\"))\n",
    "\n",
    "fahrenheit = (celcius * 9/5) + 32\n",
    "\n",
    "print(\"{} celcius = {} Fahrenheit\".format(celcius,fahrenheit))"
   ]
  },
  {
   "cell_type": "markdown",
   "id": "unable-bangladesh",
   "metadata": {},
   "source": [
    "Question - 3\n",
    "***\n",
    "Write a Python program to display calendar"
   ]
  },
  {
   "cell_type": "markdown",
   "id": "prostate-ticket",
   "metadata": {},
   "source": [
    "#### Solution :"
   ]
  },
  {
   "cell_type": "code",
   "execution_count": 14,
   "id": "thermal-virus",
   "metadata": {},
   "outputs": [
    {
     "name": "stdout",
     "output_type": "stream",
     "text": [
      "                                2021\n",
      "\n",
      "      January                 February                 March\n",
      "Mo Tu We Th Fr Sa Su    Mo Tu We Th Fr Sa Su    Mo Tu We Th Fr Sa Su\n",
      "             1  2  3     1  2  3  4  5  6  7     1  2  3  4  5  6  7\n",
      " 4  5  6  7  8  9 10     8  9 10 11 12 13 14     8  9 10 11 12 13 14\n",
      "11 12 13 14 15 16 17    15 16 17 18 19 20 21    15 16 17 18 19 20 21\n",
      "18 19 20 21 22 23 24    22 23 24 25 26 27 28    22 23 24 25 26 27 28\n",
      "25 26 27 28 29 30 31                            29 30 31\n",
      "\n",
      "       April                    May                     June\n",
      "Mo Tu We Th Fr Sa Su    Mo Tu We Th Fr Sa Su    Mo Tu We Th Fr Sa Su\n",
      "          1  2  3  4                    1  2        1  2  3  4  5  6\n",
      " 5  6  7  8  9 10 11     3  4  5  6  7  8  9     7  8  9 10 11 12 13\n",
      "12 13 14 15 16 17 18    10 11 12 13 14 15 16    14 15 16 17 18 19 20\n",
      "19 20 21 22 23 24 25    17 18 19 20 21 22 23    21 22 23 24 25 26 27\n",
      "26 27 28 29 30          24 25 26 27 28 29 30    28 29 30\n",
      "                        31\n",
      "\n",
      "        July                   August                September\n",
      "Mo Tu We Th Fr Sa Su    Mo Tu We Th Fr Sa Su    Mo Tu We Th Fr Sa Su\n",
      "          1  2  3  4                       1           1  2  3  4  5\n",
      " 5  6  7  8  9 10 11     2  3  4  5  6  7  8     6  7  8  9 10 11 12\n",
      "12 13 14 15 16 17 18     9 10 11 12 13 14 15    13 14 15 16 17 18 19\n",
      "19 20 21 22 23 24 25    16 17 18 19 20 21 22    20 21 22 23 24 25 26\n",
      "26 27 28 29 30 31       23 24 25 26 27 28 29    27 28 29 30\n",
      "                        30 31\n",
      "\n",
      "      October                 November                December\n",
      "Mo Tu We Th Fr Sa Su    Mo Tu We Th Fr Sa Su    Mo Tu We Th Fr Sa Su\n",
      "             1  2  3     1  2  3  4  5  6  7           1  2  3  4  5\n",
      " 4  5  6  7  8  9 10     8  9 10 11 12 13 14     6  7  8  9 10 11 12\n",
      "11 12 13 14 15 16 17    15 16 17 18 19 20 21    13 14 15 16 17 18 19\n",
      "18 19 20 21 22 23 24    22 23 24 25 26 27 28    20 21 22 23 24 25 26\n",
      "25 26 27 28 29 30 31    29 30                   27 28 29 30 31\n",
      "\n"
     ]
    }
   ],
   "source": [
    "import calendar\n",
    "\n",
    "print(calendar.calendar(2021,0,0,4))"
   ]
  },
  {
   "cell_type": "markdown",
   "id": "separate-country",
   "metadata": {},
   "source": [
    "#### Question - 4\n",
    "***\n",
    "Write a Python program to solve quadratic equation?"
   ]
  },
  {
   "cell_type": "markdown",
   "id": "intellectual-flower",
   "metadata": {},
   "source": [
    "#### Solution :"
   ]
  },
  {
   "cell_type": "code",
   "execution_count": 32,
   "id": "starting-mattress",
   "metadata": {},
   "outputs": [
    {
     "name": "stdout",
     "output_type": "stream",
     "text": [
      "---Your result---\n"
     ]
    },
    {
     "data": {
      "text/plain": [
       "(-1.0, -1.0)"
      ]
     },
     "execution_count": 32,
     "metadata": {},
     "output_type": "execute_result"
    }
   ],
   "source": [
    "import math\n",
    "\n",
    "def quadratic(a,b,c):\n",
    "        sqrt_value = (b*b - 4*a*c)\n",
    "        x1 = (-b + math.sqrt(sqrt_value))/(2*a)\n",
    "        x2 = (-b - math.sqrt(sqrt_value))/(2*a)\n",
    "        print(\"---Your result---\")\n",
    "        return x1,x2\n",
    "\n",
    "quadratic(1,2,1)"
   ]
  },
  {
   "cell_type": "markdown",
   "id": "hungry-update",
   "metadata": {},
   "source": [
    "### Question - 5\n",
    "***\n",
    "Write a Python program to swap two variables without temp variable?"
   ]
  },
  {
   "cell_type": "markdown",
   "id": "stone-alpha",
   "metadata": {},
   "source": [
    "#### Solution : "
   ]
  },
  {
   "cell_type": "code",
   "execution_count": 24,
   "id": "consecutive-linux",
   "metadata": {},
   "outputs": [],
   "source": [
    "def swap_variables(a,b):\n",
    "    return b,a"
   ]
  },
  {
   "cell_type": "code",
   "execution_count": 25,
   "id": "fifth-clarity",
   "metadata": {},
   "outputs": [
    {
     "data": {
      "text/plain": [
       "(2, 1)"
      ]
     },
     "execution_count": 25,
     "metadata": {},
     "output_type": "execute_result"
    }
   ],
   "source": [
    "swap_variables(1,2)"
   ]
  }
 ],
 "metadata": {
  "kernelspec": {
   "display_name": "Python 3",
   "language": "python",
   "name": "python3"
  },
  "language_info": {
   "codemirror_mode": {
    "name": "ipython",
    "version": 3
   },
   "file_extension": ".py",
   "mimetype": "text/x-python",
   "name": "python",
   "nbconvert_exporter": "python",
   "pygments_lexer": "ipython3",
   "version": "3.9.1"
  }
 },
 "nbformat": 4,
 "nbformat_minor": 5
}
