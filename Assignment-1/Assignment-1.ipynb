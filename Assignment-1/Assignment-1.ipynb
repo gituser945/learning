{
 "cells": [
  {
   "cell_type": "markdown",
   "metadata": {},
   "source": [
    "## Assignment - 1 - Python\n"
   ]
  },
  {
   "cell_type": "markdown",
   "metadata": {},
   "source": [
    "#### Question - 1\n",
    "***\n",
    "What are the differences between operators and values in the following?\n",
    "<br>*<br>\n",
    "<br>'hello'<br>\n",
    "<br>-87.8<br>\n",
    "<br>-<br>\n",
    "<br>/<br>\n",
    "<br>+<br>\n",
    "<br>6<br>"
   ]
  },
  {
   "cell_type": "markdown",
   "metadata": {},
   "source": [
    "#### Answer:\n",
    "<br> * is an operator which is basically used to multiply two different values/operands together. e.g. 3*3 = 9\n",
    "'hello' is a value of type string. e.g. string_1 = 'hello'\n",
    "-87.8 is a -negative value with floating data type.\n",
    "<br> - is an operator which is used to subtract two different values.e.g. = 6-1 = 5\n",
    "<br> / is an operator which is used perform divison on two different values/operands.\n",
    "<br> + is an operator used to perform addition opration e.g. 5 + 4 = 9\n",
    "<br> 6 is an integer value."
   ]
  },
  {
   "cell_type": "markdown",
   "metadata": {},
   "source": [
    "#### Question - 2\n",
    "***\n",
    "<br> What is the difference between string and variable?\n",
    "<br> spam\n",
    "<br> 'spam'\n"
   ]
  },
  {
   "cell_type": "markdown",
   "metadata": {},
   "source": [
    "#### Answer :\n",
    "\n",
    "string : string is a data type in python and it's an ordered sequence of character.\n",
    "<br>e.g. str1 = 'spam'\n",
    "<br>here in the above example str1 is a string data type that stores a value 'spam'\n",
    "\n",
    "\n",
    "<br> variable : variable in python is used to stored any value and it act as a container.\n",
    "<br> e.g. spam = 123.\n",
    "<br> In the above example spam is a variable which has a value as 123 into the memory location and this value\n",
    "<br> 123 can be accessed by the reference/pointer spam."
   ]
  },
  {
   "cell_type": "markdown",
   "metadata": {},
   "source": [
    "#### Question - 3\n",
    "***\n",
    "Describe three different data forms."
   ]
  },
  {
   "cell_type": "markdown",
   "metadata": {},
   "source": [
    "#### Answer : \n",
    "\n",
    "The three different data types are :\n",
    "<br> list : list is a collection of heterogeneous data type.\n",
    "<br> e.g. l1 = list([123,'abc',[1,2,'abc'])\n",
    "<br> string is an ordered sequence of a character.\n",
    "<br> var1 = 'hello'\n",
    "<br> Numbers in python are float,complex,int"
   ]
  },
  {
   "cell_type": "markdown",
   "metadata": {},
   "source": [
    "#### Question - 4\n",
    "***\n",
    "What makes up an expression? What are the functions of all expressions?"
   ]
  },
  {
   "cell_type": "markdown",
   "metadata": {},
   "source": [
    "#### Answer :\n",
    "\n",
    "Expression is basically a combination of operator and operands/values which evaluate to give us a single output.\n",
    "<br> Different types of functions of expressions are :\n",
    "<br> + addition\n",
    "<br> * multiplication\n",
    "<br> / division\n",
    "<br> - subtraction etc."
   ]
  },
  {
   "cell_type": "markdown",
   "metadata": {},
   "source": [
    "#### Question - 5\n",
    "***\n",
    "In this chapter, assignment statements such as spam = 10 were added. What's the difference between a declaration and an expression?"
   ]
  },
  {
   "cell_type": "markdown",
   "metadata": {},
   "source": [
    "#### Answer : \n",
    "\n",
    "Declaration in the above statement is basically declaring variable spam as integer by assigning integer value but the entire statement spam = 10 is an expression which means spam is a variable of data type integer and 10 is assigned to it and if we want to access 10 from the memory we use the variable spam as a reference to that location. "
   ]
  },
  {
   "cell_type": "markdown",
   "metadata": {},
   "source": [
    "#### Question - 6\n",
    "***\n",
    "After running the following code, what does the variable bacon contain?\n",
    "<br>bacon = 22\n",
    "<br>bacon + 1"
   ]
  },
  {
   "cell_type": "markdown",
   "metadata": {},
   "source": [
    "#### Answer : \n",
    "\n",
    "bacon variable will still contain 22 only because we are only performing addition operation but not reassigning the\n",
    "output back to bacon varible which is 23."
   ]
  },
  {
   "cell_type": "markdown",
   "metadata": {},
   "source": [
    "#### Question - 7\n",
    "***\n",
    "What should the values of the following two terms be?\n",
    "<br>'spam' + 'spamspam'\n",
    "<br>'spam' * 3"
   ]
  },
  {
   "cell_type": "markdown",
   "metadata": {},
   "source": [
    "#### Answer : \n",
    "\n",
    "'spam'+'spamspam' = 'spamspamspam'\n",
    "<br>'spam'*3 = 'spamspamspam'"
   ]
  },
  {
   "cell_type": "markdown",
   "metadata": {},
   "source": [
    "#### Question - 8\n",
    "***\n",
    " Why is it that eggs is a true variable name but 100 is not?"
   ]
  },
  {
   "cell_type": "markdown",
   "metadata": {},
   "source": [
    "#### Answer : \n",
    "Because in python variable name cannot starts with a integer values it can either starts with string/character or\n",
    "special character."
   ]
  },
  {
   "cell_type": "markdown",
   "metadata": {},
   "source": [
    "#### Question - 9\n",
    "***\n",
    "<br>Which of the following three functions may be used to convert a value to an integer, a floating-point number, or a string?"
   ]
  },
  {
   "cell_type": "markdown",
   "metadata": {},
   "source": [
    "#### Answer : \n",
    "int() is used to convert value to the interger.\n",
    "<br> str() function is used to convert value to the string.\n",
    "<br> float() function is used to convert value to floating point number."
   ]
  },
  {
   "cell_type": "code",
   "execution_count": 22,
   "metadata": {},
   "outputs": [
    {
     "name": "stdout",
     "output_type": "stream",
     "text": [
      "123\n",
      "<class 'str'>\n",
      "123\n",
      "<class 'int'>\n",
      "123\n",
      "<class 'int'>\n",
      "123\n",
      "<class 'str'>\n",
      "123\n",
      "<class 'int'>\n",
      "123.0\n",
      "<class 'float'>\n"
     ]
    }
   ],
   "source": [
    "a = '123' # storing 123 integer values as string\n",
    "print(a)\n",
    "print(type(a)) # checking type of a\n",
    "a = int(a) # performing type casting using int() function\n",
    "print(a)\n",
    "print(type(a)) # rechecking after conversion\n",
    "\n",
    "b = 123 # storing 123 integer values as integer.\n",
    "print(b)\n",
    "print(type(b)) # checking type of b.\n",
    "b = str(b) # performing type casting using str() function to convert int into str\n",
    "print(b)\n",
    "print(type(b)) # rechecking after conversion.\n",
    "\n",
    "c = 123 # storing integer value into c.\n",
    "print(c)\n",
    "print(type(c)) # checking type.\n",
    "c = float(c) # performing type conversion.\n",
    "print(c) # printing result.\n",
    "print(type(c)) # checking after conversion"
   ]
  },
  {
   "cell_type": "markdown",
   "metadata": {},
   "source": [
    "#### Question - 10\n",
    "***\n",
    "<br> What is the error caused by this expression? What would you do about it?\n",
    "<br>'I have eaten ' + 99 + ' burritos.'"
   ]
  },
  {
   "cell_type": "markdown",
   "metadata": {},
   "source": [
    "#### Answer :\n",
    "\n",
    "The possible error is cannot concatenate string with integer.\n",
    "<br> The reason behind this both are two different data types and it leads to the type conversion issue.\n",
    "<br> The possible solution to this is we can type cast the integer 99 to string then we can perform concatenate operation.\n",
    "<br> 'i have eaten' + str(99) + 'burritos'"
   ]
  },
  {
   "cell_type": "code",
   "execution_count": 23,
   "metadata": {},
   "outputs": [
    {
     "data": {
      "text/plain": [
       "'i have eaten99burritos'"
      ]
     },
     "execution_count": 23,
     "metadata": {},
     "output_type": "execute_result"
    }
   ],
   "source": [
    "'i have eaten' + str(99) + 'burritos'"
   ]
  }
 ],
 "metadata": {
  "kernelspec": {
   "display_name": "Python 3",
   "language": "python",
   "name": "python3"
  },
  "language_info": {
   "codemirror_mode": {
    "name": "ipython",
    "version": 3
   },
   "file_extension": ".py",
   "mimetype": "text/x-python",
   "name": "python",
   "nbconvert_exporter": "python",
   "pygments_lexer": "ipython3",
   "version": "3.8.5"
  }
 },
 "nbformat": 4,
 "nbformat_minor": 4
}
