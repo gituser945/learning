{
 "cells": [
  {
   "cell_type": "markdown",
   "metadata": {},
   "source": [
    "## Assignment - 2 - Python "
   ]
  },
  {
   "cell_type": "markdown",
   "metadata": {},
   "source": [
    "#### Question - 1\n",
    "***\n",
    "What are the Boolean data type's two values? How do you go about writing them?"
   ]
  },
  {
   "cell_type": "markdown",
   "metadata": {},
   "source": [
    "Answer : \n",
    "\n",
    "Boolean data type built-in data type in python.The two values are either TRUE or FALSE.\n",
    "<br> e.g. 1 < 2 is TRUE\n",
    "<br> however 2 > 3 is FALSE"
   ]
  },
  {
   "cell_type": "code",
   "execution_count": 2,
   "metadata": {},
   "outputs": [
    {
     "name": "stdout",
     "output_type": "stream",
     "text": [
      "<class 'bool'>\n"
     ]
    }
   ],
   "source": [
    "# python code\n",
    "\n",
    "var1 = True\n",
    "\n",
    "print(type(var1))"
   ]
  },
  {
   "cell_type": "markdown",
   "metadata": {},
   "source": [
    "#### Question - 2\n",
    "***\n",
    "What are the three different types of Boolean operators?"
   ]
  },
  {
   "cell_type": "markdown",
   "metadata": {},
   "source": [
    "#### Answer : \n",
    "\n",
    "The three different types of Boolean operators are :\n",
    "<br> AND\n",
    "<br> OR\n",
    "<br> NOT"
   ]
  },
  {
   "cell_type": "code",
   "execution_count": 8,
   "metadata": {},
   "outputs": [
    {
     "name": "stdout",
     "output_type": "stream",
     "text": [
      "False\n",
      "True\n",
      "False\n"
     ]
    }
   ],
   "source": [
    "# python example\n",
    "\n",
    "print(True and False)\n",
    "print(True or False)\n",
    "print(not True)"
   ]
  },
  {
   "cell_type": "markdown",
   "metadata": {},
   "source": [
    "#### Question - 3\n",
    "***\n",
    "Make a list of each Boolean operator's truth tables (i.e. every possible combination of Boolean values for the operator and what it evaluate)."
   ]
  },
  {
   "cell_type": "markdown",
   "metadata": {},
   "source": [
    "#### Answer :\n",
    "\n",
    "-- AND operator and every possible values --\n",
    "<br> True and True = True\n",
    "<br>True and False = False\n",
    "<br>False and True = False\n",
    "<br>False and False = False\n",
    "\n",
    "-- OR operator and every possible values --\n",
    "<br>True or True = True\n",
    "<br>True or False = True\n",
    "<br>False or True = True\n",
    "<br>False or False = False\n",
    "\n",
    "-- NOT operator and every possible values --\n",
    "<br>not(True) = False\n",
    "<br>not(False) = True"
   ]
  },
  {
   "cell_type": "code",
   "execution_count": 10,
   "metadata": {},
   "outputs": [
    {
     "name": "stdout",
     "output_type": "stream",
     "text": [
      "True\n",
      "False\n",
      "False\n",
      "False\n",
      "True\n",
      "True\n",
      "True\n",
      "False\n",
      "False\n",
      "True\n"
     ]
    }
   ],
   "source": [
    "# python implementation\n",
    "\n",
    "# AND operator\n",
    "\n",
    "print(True and True)\n",
    "print(True and False)\n",
    "print(False and True)\n",
    "print(False and False)\n",
    "\n",
    "# OR Operator\n",
    "print(True or True)\n",
    "print(True or False)\n",
    "print(False or True)\n",
    "print(False or False)\n",
    "\n",
    "# NOT operator\n",
    "print(not(True))\n",
    "print(not(False))"
   ]
  },
  {
   "cell_type": "markdown",
   "metadata": {},
   "source": [
    "#### Question - 4\n",
    "***\n",
    "What are the values of the following expressions?\n",
    "<br>(5 > 4) and (3 == 5)\n",
    "<br>not (5 > 4)\n",
    "<br>(5 > 4) or (3 == 5)\n",
    "<br>not ((5 > 4) or (3 == 5))\n",
    "<br>(True and True) and (True == False)\n",
    "<br>(not False) or (not True)\n"
   ]
  },
  {
   "cell_type": "markdown",
   "metadata": {},
   "source": [
    "#### Answer : \n",
    "\n",
    "<br>(5>4)and(3==5) = False\n",
    "<br> (5>4) evaluates to True and (3==5) evaluates to False so True and False evaluates to False\n",
    "\n",
    "<br> not (5 > 4) = False\n",
    "<br> (5>4) evaluates to True,then not(True) is False\n",
    "\n",
    "<br> (5 > 4) or (3 == 5) = True\n",
    "<br> (5>4) evaluates to True and (3==4) evaluates to false,then True or False evaluates to True\n",
    "\n",
    "<br> not ((5 > 4) or (3 == 5)) = False\n",
    "<br> (5>4) evaluates to True,(3==5) evaluates to False,(True or False) evaluates to True then not(True) = False\n",
    "\n",
    "<br> (True and True) and (True == False) = False\n",
    "<br> (True and True) evaluates to True,(True == False) evaluates to False,then (True and False) evaluates to False\n",
    "\n",
    "<br> (not False) or (not True) = True\n",
    "<br> (not False) evaluates to True,(not True) evaluates to False,then (True or False) = True"
   ]
  },
  {
   "cell_type": "markdown",
   "metadata": {},
   "source": [
    "#### Question - 5\n",
    "***\n",
    "What are the six different types of operators?"
   ]
  },
  {
   "cell_type": "markdown",
   "metadata": {},
   "source": [
    "#### Answer :\n",
    "\n",
    "The six operators are:\n",
    "<br> i) Arithmetic Operator\n",
    "<br> ii) Logical Operator\n",
    "<br> iii) Comparision Operator\n",
    "<br> iv) Special Operator\n",
    "<br> v) Assignment Operator\n",
    "<br> vi) Bitwise Operator"
   ]
  },
  {
   "cell_type": "markdown",
   "metadata": {},
   "source": [
    "#### Question - 6\n",
    "***\n",
    "How do you tell the difference between the equal to and assignment operators?"
   ]
  },
  {
   "cell_type": "markdown",
   "metadata": {},
   "source": [
    "#### Answer :\n",
    "\n",
    "Assignment operator '=' is used to assign any value to a variable in python\n",
    "<br> Whereas Equality '==' operator is used to state that both left hand side and right hand side operand is equal or not i.e it is basically used for comparision between two operands."
   ]
  },
  {
   "cell_type": "markdown",
   "metadata": {},
   "source": [
    "#### Question - 7\n",
    "***\n",
    "Describe a condition and when you would use one?"
   ]
  },
  {
   "cell_type": "markdown",
   "metadata": {},
   "source": [
    "#### Answer :\n",
    "Assignment operator :\n",
    "<br> var1 = 123\n",
    "<br> assigning value 123 to a variable var1 \n",
    "\n",
    "Equality operator :\n",
    "<br> 3 == 4\n",
    "<br> used to check whether 3 is equal to 4 or not"
   ]
  },
  {
   "cell_type": "markdown",
   "metadata": {},
   "source": [
    "#### Question - 8\n",
    "***\n",
    "Recognize the following three blocks in this code:"
   ]
  },
  {
   "cell_type": "code",
   "execution_count": null,
   "metadata": {},
   "outputs": [],
   "source": [
    "spam = 5\n",
    "\n",
    "if spam == 10:\n",
    "    print('eggs')\n",
    "    if spam > 5:\n",
    "        print('bacon')\n",
    "    else:\n",
    "        print('ham')\n",
    "    print('spam')\n",
    "print('spam')"
   ]
  },
  {
   "cell_type": "markdown",
   "metadata": {},
   "source": [
    "#### Answer :\n",
    "\n",
    "First block : \n",
    "<br>If the value of spam is equals to 10 then it will print 'eggs' and then inside same loop it will check whether the value of spam of greater than 5 then it will print 'bacon' as well.Then it will come out of second if block and print the next two spam one by one so the output of first block would be something like :\n",
    "<br> if value given by user is 10\n",
    "<br> eggs\n",
    "<br> bacon\n",
    "<br> spam\n",
    "<br> spam\n",
    "\n",
    "<br> Second block : \n",
    "<br> if value of spam given by user less than 10 but greater than 5 then it will print directly the last print statement because it will not enter into the loop as the value is not equal to 10.So output would be something like :\n",
    "<br> spam\n",
    "\n",
    "<br> Third Block :\n",
    "<br> The third block which will try to print 'ham',this case will never happen i.e in any situation the code is not going to print 'ham' because the three possible value that an user can enter are either less than 10,equal to 10 or greater than 10.So incase of greater and less than 10 output will be 'spam' as it will not enter into loop.And in the case of spam equals to 10 it will enter into loop but then it will also execute spam > 5."
   ]
  },
  {
   "cell_type": "markdown",
   "metadata": {},
   "source": [
    "#### Question - 9\n",
    "***\n",
    "Create a programme that prints. If 1 is stored in spam, prints Hello; if 2 is stored in spam, prints Howdy; and if 3 is stored in spam, prints Salutations! if there's something else in spam."
   ]
  },
  {
   "cell_type": "code",
   "execution_count": 22,
   "metadata": {},
   "outputs": [
    {
     "name": "stdout",
     "output_type": "stream",
     "text": [
      "Nothing\n"
     ]
    }
   ],
   "source": [
    "spam = 5\n",
    "\n",
    "if spam == 1:\n",
    "    print('Hello')\n",
    "elif spam == 2:\n",
    "    print('Howdy')\n",
    "elif spam == 3:\n",
    "    print('Saturation')\n",
    "else:\n",
    "    print('Nothing')"
   ]
  },
  {
   "cell_type": "markdown",
   "metadata": {},
   "source": [
    "#### Question - 10\n",
    "***\n",
    "If your programme is stuck in an endless loop, what keys can you press?"
   ]
  },
  {
   "cell_type": "markdown",
   "metadata": {},
   "source": [
    "#### Answer :\n",
    "Ctrl + c"
   ]
  },
  {
   "cell_type": "markdown",
   "metadata": {},
   "source": [
    "#### Question - 11\n",
    "***\n",
    "How can you tell the difference between break and continue?"
   ]
  },
  {
   "cell_type": "markdown",
   "metadata": {},
   "source": [
    "#### Answer :\n",
    "break statement break the loop out of the current loop\n",
    "<br> whereas continue statement continue the current loop and comes out of loop once all execution completes."
   ]
  },
  {
   "cell_type": "markdown",
   "metadata": {},
   "source": [
    "#### Question - 12\n",
    "***\n",
    "In a for loop, what is the difference between range(10), range(0, 10), and range(0, 10, 1)"
   ]
  },
  {
   "cell_type": "markdown",
   "metadata": {},
   "source": [
    "#### Answer :\n",
    "\n",
    "There is no difference between range(10),range(0,10),range(0,10,1) because in range function the three parameters start is by default set to 0 and steps is set to 1.And end is set to 10 in this case so specifying start and steps explicitly to the default value doesn't make any difference to the result.\n",
    "<br> show in below python code :"
   ]
  },
  {
   "cell_type": "code",
   "execution_count": 26,
   "metadata": {},
   "outputs": [
    {
     "name": "stdout",
     "output_type": "stream",
     "text": [
      "0\n",
      "1\n",
      "2\n",
      "3\n",
      "4\n",
      "5\n",
      "6\n",
      "7\n",
      "8\n",
      "9\n"
     ]
    }
   ],
   "source": [
    "for i in range(10):\n",
    "    print(i)"
   ]
  },
  {
   "cell_type": "code",
   "execution_count": 24,
   "metadata": {},
   "outputs": [
    {
     "name": "stdout",
     "output_type": "stream",
     "text": [
      "0\n",
      "1\n",
      "2\n",
      "3\n",
      "4\n",
      "5\n",
      "6\n",
      "7\n",
      "8\n",
      "9\n"
     ]
    }
   ],
   "source": [
    "for i in range(0,10):\n",
    "    print(i)"
   ]
  },
  {
   "cell_type": "code",
   "execution_count": 25,
   "metadata": {},
   "outputs": [
    {
     "name": "stdout",
     "output_type": "stream",
     "text": [
      "0\n",
      "1\n",
      "2\n",
      "3\n",
      "4\n",
      "5\n",
      "6\n",
      "7\n",
      "8\n",
      "9\n"
     ]
    }
   ],
   "source": [
    "for i in range(0,10,1):\n",
    "    print(i)"
   ]
  },
  {
   "cell_type": "markdown",
   "metadata": {},
   "source": [
    "#### Question - 13\n",
    "***\n",
    "Using a for loop, write a short programme that prints the numbers 1 to 10 Then, using a while loop, create an identical programme that prints the numbers 1 to 10."
   ]
  },
  {
   "cell_type": "markdown",
   "metadata": {},
   "source": [
    "#### Answer :"
   ]
  },
  {
   "cell_type": "code",
   "execution_count": 28,
   "metadata": {},
   "outputs": [
    {
     "name": "stdout",
     "output_type": "stream",
     "text": [
      "1\n",
      "2\n",
      "3\n",
      "4\n",
      "5\n",
      "6\n",
      "7\n",
      "8\n",
      "9\n",
      "10\n"
     ]
    }
   ],
   "source": [
    "# for loop to print numbers from 1 to 10\n",
    "\n",
    "for i in range(1,11):\n",
    "    print(i)"
   ]
  },
  {
   "cell_type": "code",
   "execution_count": 4,
   "metadata": {},
   "outputs": [
    {
     "name": "stdout",
     "output_type": "stream",
     "text": [
      "1\n",
      "2\n",
      "3\n",
      "4\n",
      "5\n",
      "6\n",
      "7\n",
      "8\n",
      "9\n",
      "10\n"
     ]
    }
   ],
   "source": [
    "# using while loop\n",
    "n = 11\n",
    "i = 1\n",
    "\n",
    "while i < n:\n",
    "    print(i)\n",
    "    i += 1"
   ]
  },
  {
   "cell_type": "markdown",
   "metadata": {},
   "source": [
    "#### Question - 14\n",
    "***\n",
    "If you had a bacon() function within a spam module, what would you call it after importing spam?"
   ]
  },
  {
   "cell_type": "markdown",
   "metadata": {},
   "source": [
    "#### Answer :\n",
    "\n",
    "Nested function i.e. a function within a function "
   ]
  }
 ],
 "metadata": {
  "kernelspec": {
   "display_name": "Python 3",
   "language": "python",
   "name": "python3"
  },
  "language_info": {
   "codemirror_mode": {
    "name": "ipython",
    "version": 3
   },
   "file_extension": ".py",
   "mimetype": "text/x-python",
   "name": "python",
   "nbconvert_exporter": "python",
   "pygments_lexer": "ipython3",
   "version": "3.8.5"
  }
 },
 "nbformat": 4,
 "nbformat_minor": 4
}
