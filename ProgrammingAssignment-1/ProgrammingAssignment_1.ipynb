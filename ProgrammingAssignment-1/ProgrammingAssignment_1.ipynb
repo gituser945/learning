{
 "cells": [
  {
   "cell_type": "markdown",
   "id": "fantastic-evolution",
   "metadata": {},
   "source": [
    "### Programming Assignment 1 "
   ]
  },
  {
   "cell_type": "markdown",
   "id": "absent-horse",
   "metadata": {},
   "source": [
    "#### Question - 1\n",
    "***\n",
    "Write a Python program to print \"Hello Python\""
   ]
  },
  {
   "cell_type": "markdown",
   "id": "addressed-license",
   "metadata": {},
   "source": [
    "#### Solution :"
   ]
  },
  {
   "cell_type": "code",
   "execution_count": 1,
   "id": "dependent-ghana",
   "metadata": {},
   "outputs": [
    {
     "name": "stdout",
     "output_type": "stream",
     "text": [
      "Hello Python\n"
     ]
    }
   ],
   "source": [
    "# Code\n",
    "\n",
    "print(\"Hello Python\")"
   ]
  },
  {
   "cell_type": "markdown",
   "id": "medical-california",
   "metadata": {},
   "source": [
    "### Question - 2\n",
    "***\n",
    "Write a Python program to do arithmetical operations addition and division."
   ]
  },
  {
   "cell_type": "markdown",
   "id": "dressed-oxford",
   "metadata": {},
   "source": [
    "#### Solution :"
   ]
  },
  {
   "cell_type": "code",
   "execution_count": 29,
   "id": "atmospheric-review",
   "metadata": {},
   "outputs": [],
   "source": [
    "# Addition function\n",
    "\n",
    "def addition(a,b):\n",
    "    if type(a) == int:\n",
    "        if type(b) == int:\n",
    "            return a + b\n",
    "        else:\n",
    "            print(\"Please enter integer only\")\n",
    "    else:\n",
    "        print(\"Please enter integer only\")"
   ]
  },
  {
   "cell_type": "code",
   "execution_count": 31,
   "id": "incoming-luther",
   "metadata": {},
   "outputs": [
    {
     "data": {
      "text/plain": [
       "100"
      ]
     },
     "execution_count": 31,
     "metadata": {},
     "output_type": "execute_result"
    }
   ],
   "source": [
    "addition(55,45)"
   ]
  },
  {
   "cell_type": "code",
   "execution_count": 32,
   "id": "civic-cologne",
   "metadata": {},
   "outputs": [],
   "source": [
    "# Division operation\n",
    "\n",
    "def division(a,b):\n",
    "    if type(a) == int:\n",
    "        if type(b) == int:\n",
    "            if b == 0:\n",
    "                print(\"Divide by Zero not allowed\")\n",
    "            else:\n",
    "                return a/b\n",
    "        else:\n",
    "            print(\"Integer only\")\n",
    "    else:\n",
    "        print(\"integer only\")    "
   ]
  },
  {
   "cell_type": "code",
   "execution_count": 43,
   "id": "equivalent-islam",
   "metadata": {},
   "outputs": [
    {
     "data": {
      "text/plain": [
       "0.5"
      ]
     },
     "execution_count": 43,
     "metadata": {},
     "output_type": "execute_result"
    }
   ],
   "source": [
    "division(1,2)"
   ]
  },
  {
   "cell_type": "code",
   "execution_count": 44,
   "id": "julian-madison",
   "metadata": {},
   "outputs": [
    {
     "name": "stdout",
     "output_type": "stream",
     "text": [
      "Divide by Zero not allowed\n"
     ]
    }
   ],
   "source": [
    "division(1,0)"
   ]
  },
  {
   "cell_type": "markdown",
   "id": "decimal-limitation",
   "metadata": {},
   "source": [
    "#### Question - 3\n",
    "***\n",
    "Write a Python program to find the area of a triangle"
   ]
  },
  {
   "cell_type": "markdown",
   "id": "variable-archive",
   "metadata": {},
   "source": [
    "#### Solution :\n",
    "\n",
    "area of triangle = 1/2*b*h"
   ]
  },
  {
   "cell_type": "code",
   "execution_count": 25,
   "id": "pregnant-germany",
   "metadata": {},
   "outputs": [],
   "source": [
    "# area of triangle function\n",
    "\n",
    "def area_of_triangle(b,h):\n",
    "    if type(b) == int:\n",
    "        if type(h) == int:\n",
    "            return 0.5*b*h\n",
    "        else:\n",
    "            print(\"Please enter height in integer\")\n",
    "    else:\n",
    "        print(\"please enter base integer value.\")"
   ]
  },
  {
   "cell_type": "code",
   "execution_count": 26,
   "id": "incorporate-vermont",
   "metadata": {},
   "outputs": [
    {
     "data": {
      "text/plain": [
       "9.0"
      ]
     },
     "execution_count": 26,
     "metadata": {},
     "output_type": "execute_result"
    }
   ],
   "source": [
    "# when use entered both values as integer\n",
    "\n",
    "area_of_triangle(3,6)"
   ]
  },
  {
   "cell_type": "code",
   "execution_count": 27,
   "id": "covered-potential",
   "metadata": {},
   "outputs": [
    {
     "name": "stdout",
     "output_type": "stream",
     "text": [
      "please enter base integer value.\n"
     ]
    }
   ],
   "source": [
    "# when user entered base other than integer\n",
    "\n",
    "area_of_triangle('ab',23)"
   ]
  },
  {
   "cell_type": "code",
   "execution_count": 28,
   "id": "gorgeous-exemption",
   "metadata": {},
   "outputs": [
    {
     "name": "stdout",
     "output_type": "stream",
     "text": [
      "Please enter height in integer\n"
     ]
    }
   ],
   "source": [
    "# when user entered height other than integer\n",
    "\n",
    "area_of_triangle(23,True)"
   ]
  },
  {
   "cell_type": "markdown",
   "id": "coordinate-mention",
   "metadata": {},
   "source": [
    "#### Question - 4\n",
    "***\n",
    "Write a Python program to swap two variables?"
   ]
  },
  {
   "cell_type": "markdown",
   "id": "colonial-product",
   "metadata": {},
   "source": [
    "#### Solution :"
   ]
  },
  {
   "cell_type": "code",
   "execution_count": 46,
   "id": "anonymous-bundle",
   "metadata": {},
   "outputs": [],
   "source": [
    "def swap(a,b):\n",
    "    return b,a"
   ]
  },
  {
   "cell_type": "code",
   "execution_count": 48,
   "id": "colored-success",
   "metadata": {},
   "outputs": [
    {
     "data": {
      "text/plain": [
       "('c', 'a')"
      ]
     },
     "execution_count": 48,
     "metadata": {},
     "output_type": "execute_result"
    }
   ],
   "source": [
    "swap('a','c')"
   ]
  },
  {
   "cell_type": "code",
   "execution_count": 49,
   "id": "rocky-prefix",
   "metadata": {},
   "outputs": [
    {
     "data": {
      "text/plain": [
       "(3, 2)"
      ]
     },
     "execution_count": 49,
     "metadata": {},
     "output_type": "execute_result"
    }
   ],
   "source": [
    "swap(2,3)"
   ]
  },
  {
   "cell_type": "markdown",
   "id": "placed-ballot",
   "metadata": {},
   "source": [
    "#### Question - 5\n",
    "***\n",
    "Write a Python program to generate a random number?"
   ]
  },
  {
   "cell_type": "markdown",
   "id": "suspended-bridges",
   "metadata": {},
   "source": [
    "#### Solution :\n",
    "randint function from random library generates a random number between given interval in below example given interval is 1 and 100 so every we execute the below code we get random number every single time"
   ]
  },
  {
   "cell_type": "code",
   "execution_count": 61,
   "id": "pressing-transport",
   "metadata": {},
   "outputs": [
    {
     "data": {
      "text/plain": [
       "56"
      ]
     },
     "execution_count": 61,
     "metadata": {},
     "output_type": "execute_result"
    }
   ],
   "source": [
    "import random\n",
    "random.randint(1,100)"
   ]
  },
  {
   "cell_type": "code",
   "execution_count": 64,
   "id": "animal-forestry",
   "metadata": {},
   "outputs": [
    {
     "data": {
      "text/plain": [
       "15"
      ]
     },
     "execution_count": 64,
     "metadata": {},
     "output_type": "execute_result"
    }
   ],
   "source": [
    "random.randint(1,100)"
   ]
  },
  {
   "cell_type": "code",
   "execution_count": 65,
   "id": "controlled-marijuana",
   "metadata": {},
   "outputs": [
    {
     "data": {
      "text/plain": [
       "10"
      ]
     },
     "execution_count": 65,
     "metadata": {},
     "output_type": "execute_result"
    }
   ],
   "source": [
    "random.randint(1,100)"
   ]
  }
 ],
 "metadata": {
  "kernelspec": {
   "display_name": "Python 3",
   "language": "python",
   "name": "python3"
  },
  "language_info": {
   "codemirror_mode": {
    "name": "ipython",
    "version": 3
   },
   "file_extension": ".py",
   "mimetype": "text/x-python",
   "name": "python",
   "nbconvert_exporter": "python",
   "pygments_lexer": "ipython3",
   "version": "3.9.1"
  }
 },
 "nbformat": 4,
 "nbformat_minor": 5
}
