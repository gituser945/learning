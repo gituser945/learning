{
 "cells": [
  {
   "cell_type": "markdown",
   "id": "ranging-adoption",
   "metadata": {},
   "source": [
    "## Day 9 -- Python Programming\n",
    "***"
   ]
  },
  {
   "cell_type": "markdown",
   "id": "hearing-harbor",
   "metadata": {},
   "source": [
    "### Lambda function\n",
    "Lambda function is an anonymous function because this function can be created without using function name"
   ]
  },
  {
   "cell_type": "code",
   "execution_count": 1,
   "id": "transsexual-ethics",
   "metadata": {},
   "outputs": [],
   "source": [
    "# normal function in python\n",
    "\n",
    "def test_fun(name,mailid):\n",
    "    return mailid,name"
   ]
  },
  {
   "cell_type": "code",
   "execution_count": 2,
   "id": "lovely-migration",
   "metadata": {},
   "outputs": [
    {
     "data": {
      "text/plain": [
       "('nik@gmail.com', 'Nikhil')"
      ]
     },
     "execution_count": 2,
     "metadata": {},
     "output_type": "execute_result"
    }
   ],
   "source": [
    "test_fun('Nikhil','nik@gmail.com')"
   ]
  },
  {
   "cell_type": "code",
   "execution_count": 3,
   "id": "accepted-survivor",
   "metadata": {},
   "outputs": [],
   "source": [
    "# lambda function\n",
    "\n",
    "m = lambda x,y : x + y"
   ]
  },
  {
   "cell_type": "code",
   "execution_count": 4,
   "id": "bronze-gentleman",
   "metadata": {},
   "outputs": [
    {
     "data": {
      "text/plain": [
       "3"
      ]
     },
     "execution_count": 4,
     "metadata": {},
     "output_type": "execute_result"
    }
   ],
   "source": [
    "m(1,2)"
   ]
  },
  {
   "cell_type": "code",
   "execution_count": 5,
   "id": "filled-imagination",
   "metadata": {},
   "outputs": [],
   "source": [
    "# lambda function\n",
    "\n",
    "n = lambda arg1,arg2 : print(arg1,arg2)"
   ]
  },
  {
   "cell_type": "code",
   "execution_count": 6,
   "id": "executive-february",
   "metadata": {},
   "outputs": [
    {
     "name": "stdout",
     "output_type": "stream",
     "text": [
      "test example\n"
     ]
    }
   ],
   "source": [
    "n('test','example')"
   ]
  },
  {
   "cell_type": "markdown",
   "id": "colonial-occupation",
   "metadata": {},
   "source": [
    "#### Scoping rules\n",
    "\n",
    "Two kinds of scoping : Local and global\n",
    "\n",
    "Global is accessible throughout the program whereas local is accessible to local section of program"
   ]
  },
  {
   "cell_type": "code",
   "execution_count": 7,
   "id": "cosmetic-polyester",
   "metadata": {},
   "outputs": [],
   "source": [
    "global_var = 10\n",
    "\n",
    "def test(a,b):\n",
    "    global_var = a/b\n",
    "    return global_var"
   ]
  },
  {
   "cell_type": "code",
   "execution_count": 8,
   "id": "complex-oliver",
   "metadata": {},
   "outputs": [
    {
     "data": {
      "text/plain": [
       "1.0"
      ]
     },
     "execution_count": 8,
     "metadata": {},
     "output_type": "execute_result"
    }
   ],
   "source": [
    "test(10,10)"
   ]
  },
  {
   "cell_type": "markdown",
   "id": "dense-standard",
   "metadata": {},
   "source": [
    "Docstring is used to create a details of any newly created function which might be helpful for any other user"
   ]
  },
  {
   "cell_type": "code",
   "execution_count": 11,
   "id": "intelligent-turkish",
   "metadata": {},
   "outputs": [],
   "source": [
    "def test(a,b):\n",
    "    \n",
    "    # created docstring\n",
    "    \"\"\"\n",
    "    This function is created for addition task. \n",
    "    simply provide two values and then you'll get addition value as result.\n",
    "    \"\"\"\n",
    "    return a + b"
   ]
  },
  {
   "cell_type": "code",
   "execution_count": 14,
   "id": "diverse-western",
   "metadata": {},
   "outputs": [
    {
     "name": "stdout",
     "output_type": "stream",
     "text": [
      "Help on function test in module __main__:\n",
      "\n",
      "test(a, b)\n",
      "    This function is created for addition task. \n",
      "    simply provide two values and then you'll get addition value as result.\n",
      "\n"
     ]
    }
   ],
   "source": [
    "# checking docstring\n",
    "\n",
    "help(test)"
   ]
  },
  {
   "cell_type": "markdown",
   "id": "false-english",
   "metadata": {},
   "source": [
    "### Iterator and Iterable"
   ]
  },
  {
   "cell_type": "code",
   "execution_count": 16,
   "id": "medieval-tucson",
   "metadata": {},
   "outputs": [
    {
     "name": "stdout",
     "output_type": "stream",
     "text": [
      "t\n",
      "e\n",
      "s\n",
      "t\n"
     ]
    }
   ],
   "source": [
    "# string is iterable object then by using for loop we can convert string iterable into iterator object.\n",
    "# To access any value it should be iterable object then we can use any function to convert into iterator to access value.\n",
    "# In any variable is not iterable then we cannot change into iterator and can't access through object.\n",
    "# we can use iter() function to convert iterable into iterator.\n",
    "\n",
    "str_val = \"test\"\n",
    "for i in str_val:\n",
    "    print(i)"
   ]
  },
  {
   "cell_type": "code",
   "execution_count": 22,
   "id": "generic-ethics",
   "metadata": {},
   "outputs": [
    {
     "data": {
      "text/plain": [
       "'t'"
      ]
     },
     "execution_count": 22,
     "metadata": {},
     "output_type": "execute_result"
    }
   ],
   "source": [
    "# converting iterable into iterator\n",
    "str_val = iter(str_val) \n",
    "\n",
    "# it'll iterate through next value on every execution\n",
    "next(str_val) "
   ]
  },
  {
   "cell_type": "code",
   "execution_count": 24,
   "id": "motivated-metadata",
   "metadata": {},
   "outputs": [
    {
     "data": {
      "text/plain": [
       "1"
      ]
     },
     "execution_count": 24,
     "metadata": {},
     "output_type": "execute_result"
    }
   ],
   "source": [
    "# let's see with list as list is not iterator by default but it's iterable \n",
    "\n",
    "lst = [1,2,3,4,5]\n",
    "lst = iter(lst)\n",
    "next(lst)"
   ]
  },
  {
   "cell_type": "markdown",
   "id": "valuable-parker",
   "metadata": {},
   "source": [
    "#### Generator"
   ]
  },
  {
   "cell_type": "code",
   "execution_count": 25,
   "id": "fitted-slovakia",
   "metadata": {},
   "outputs": [],
   "source": [
    "l = []\n",
    "\n",
    "def test(n):\n",
    "    for i in range(n):\n",
    "        l.append(i**3)\n",
    "    return l"
   ]
  },
  {
   "cell_type": "code",
   "execution_count": 26,
   "id": "ranging-greenhouse",
   "metadata": {},
   "outputs": [
    {
     "data": {
      "text/plain": [
       "[0, 1, 8, 27, 64, 125, 216, 343, 512, 729]"
      ]
     },
     "execution_count": 26,
     "metadata": {},
     "output_type": "execute_result"
    }
   ],
   "source": [
    "test(10)"
   ]
  },
  {
   "cell_type": "code",
   "execution_count": 27,
   "id": "desperate-hazard",
   "metadata": {},
   "outputs": [],
   "source": [
    "# yield funtion\n",
    "# it is a generator function and generator function will not return any output util unless we try to hold the data into object.\n",
    "\n",
    "def test(n):\n",
    "    for i in n:\n",
    "        yield i**3"
   ]
  },
  {
   "cell_type": "code",
   "execution_count": 28,
   "id": "challenging-judge",
   "metadata": {},
   "outputs": [
    {
     "data": {
      "text/plain": [
       "<generator object test at 0x7fd726a05cf0>"
      ]
     },
     "execution_count": 28,
     "metadata": {},
     "output_type": "execute_result"
    }
   ],
   "source": [
    "test(30)"
   ]
  },
  {
   "cell_type": "code",
   "execution_count": 29,
   "id": "opposed-carol",
   "metadata": {},
   "outputs": [
    {
     "data": {
      "text/plain": [
       "list[<generator object test at 0x7fd726a0a200>]"
      ]
     },
     "execution_count": 29,
     "metadata": {},
     "output_type": "execute_result"
    }
   ],
   "source": [
    "list[test(30)]"
   ]
  },
  {
   "cell_type": "code",
   "execution_count": 37,
   "id": "cooperative-restoration",
   "metadata": {},
   "outputs": [],
   "source": [
    "# fibonaci series\n",
    "\n",
    "def fibonaci(n):\n",
    "    a = 1\n",
    "    b = 1\n",
    "    output = []\n",
    "    for i in range(n):\n",
    "        output.append(a)\n",
    "        a,b = b,a+b\n",
    "    return output"
   ]
  },
  {
   "cell_type": "code",
   "execution_count": 38,
   "id": "interesting-horizontal",
   "metadata": {},
   "outputs": [
    {
     "data": {
      "text/plain": [
       "[1, 1, 2, 3, 5, 8, 13, 21, 34, 55]"
      ]
     },
     "execution_count": 38,
     "metadata": {},
     "output_type": "execute_result"
    }
   ],
   "source": [
    "fibonaci(10)"
   ]
  },
  {
   "cell_type": "code",
   "execution_count": 39,
   "id": "adequate-bahrain",
   "metadata": {},
   "outputs": [],
   "source": [
    "# generator\n",
    "\n",
    "def fibonaci_gen(n):\n",
    "    a = 1\n",
    "    b = 1\n",
    "    output = []\n",
    "    for i in range(n):\n",
    "        yield a\n",
    "        a,b = b,a+b"
   ]
  },
  {
   "cell_type": "code",
   "execution_count": 41,
   "id": "pursuant-homeless",
   "metadata": {},
   "outputs": [
    {
     "data": {
      "text/plain": [
       "<generator object fibonaci_gen at 0x7fd72614fdd0>"
      ]
     },
     "execution_count": 41,
     "metadata": {},
     "output_type": "execute_result"
    }
   ],
   "source": [
    "fibonaci_gen(10)"
   ]
  },
  {
   "cell_type": "code",
   "execution_count": 42,
   "id": "secure-bryan",
   "metadata": {},
   "outputs": [
    {
     "name": "stdout",
     "output_type": "stream",
     "text": [
      "1\n",
      "1\n",
      "2\n",
      "3\n",
      "5\n",
      "8\n",
      "13\n",
      "21\n",
      "34\n",
      "55\n"
     ]
    }
   ],
   "source": [
    "for i in fibonaci_gen(10):\n",
    "    print(i)"
   ]
  },
  {
   "cell_type": "markdown",
   "id": "lonely-yugoslavia",
   "metadata": {},
   "source": [
    "#### open,create,read operations in python"
   ]
  },
  {
   "cell_type": "code",
   "execution_count": 51,
   "id": "severe-syndication",
   "metadata": {},
   "outputs": [],
   "source": [
    "# python implementation\n",
    "# the below code first try to open test.txt file if present inside directory\n",
    "# If file doesn't exst then it'll create new file with same name in directory using 'wb' mode\n",
    "\n",
    "f = open('test.txt',\"w\")"
   ]
  },
  {
   "cell_type": "code",
   "execution_count": 52,
   "id": "executed-cleanup",
   "metadata": {},
   "outputs": [
    {
     "data": {
      "text/plain": [
       "17"
      ]
     },
     "execution_count": 52,
     "metadata": {},
     "output_type": "execute_result"
    }
   ],
   "source": [
    "# write something into file using write function\n",
    "\n",
    "f.write(\"This is test file\")"
   ]
  },
  {
   "cell_type": "code",
   "execution_count": 53,
   "id": "competitive-bottle",
   "metadata": {},
   "outputs": [],
   "source": [
    "f = open('test.txt')"
   ]
  },
  {
   "cell_type": "code",
   "execution_count": 54,
   "id": "considerable-museum",
   "metadata": {},
   "outputs": [
    {
     "data": {
      "text/plain": [
       "'This is test file'"
      ]
     },
     "execution_count": 54,
     "metadata": {},
     "output_type": "execute_result"
    }
   ],
   "source": [
    "# reading content from file\n",
    "\n",
    "f.read()"
   ]
  },
  {
   "cell_type": "code",
   "execution_count": 59,
   "id": "adapted-poster",
   "metadata": {},
   "outputs": [],
   "source": [
    "# to close the file\n",
    "\n",
    "f.close()"
   ]
  },
  {
   "cell_type": "code",
   "execution_count": 61,
   "id": "selected-spain",
   "metadata": {},
   "outputs": [
    {
     "data": {
      "text/plain": [
       "'This is test file'"
      ]
     },
     "execution_count": 61,
     "metadata": {},
     "output_type": "execute_result"
    }
   ],
   "source": [
    "# then again reading the file will return blank because the content is already ready by cursor and it reaches to the last\n",
    "# so to read again we need to use seek function and reset my cursor.\n",
    "\n",
    "f = open('test.txt')\n",
    "f.read()"
   ]
  },
  {
   "cell_type": "code",
   "execution_count": 63,
   "id": "figured-housing",
   "metadata": {},
   "outputs": [
    {
     "data": {
      "text/plain": [
       "''"
      ]
     },
     "execution_count": 63,
     "metadata": {},
     "output_type": "execute_result"
    }
   ],
   "source": [
    "f.read()"
   ]
  },
  {
   "cell_type": "code",
   "execution_count": 64,
   "id": "friendly-finger",
   "metadata": {},
   "outputs": [
    {
     "data": {
      "text/plain": [
       "'This is test file'"
      ]
     },
     "execution_count": 64,
     "metadata": {},
     "output_type": "execute_result"
    }
   ],
   "source": [
    "# reseting the cursor\n",
    "\n",
    "f.seek(0)\n",
    "f.read()"
   ]
  },
  {
   "cell_type": "code",
   "execution_count": 66,
   "id": "catholic-willow",
   "metadata": {},
   "outputs": [
    {
     "data": {
      "text/plain": [
       "'This '"
      ]
     },
     "execution_count": 66,
     "metadata": {},
     "output_type": "execute_result"
    }
   ],
   "source": [
    "# we can read limited characters from file by providing number inside read() function\n",
    "f.seek(0)\n",
    "f.read(5)"
   ]
  },
  {
   "cell_type": "code",
   "execution_count": 101,
   "id": "documented-gothic",
   "metadata": {},
   "outputs": [],
   "source": [
    "# Different modes of file\n",
    "# write mode will clean the content of file and open for writing\n",
    "\n",
    "f = open('test.txt','r+')"
   ]
  },
  {
   "cell_type": "code",
   "execution_count": 102,
   "id": "tutorial-productivity",
   "metadata": {},
   "outputs": [
    {
     "data": {
      "text/plain": [
       "15"
      ]
     },
     "execution_count": 102,
     "metadata": {},
     "output_type": "execute_result"
    }
   ],
   "source": [
    "f.write(\"This is testing\")"
   ]
  },
  {
   "cell_type": "code",
   "execution_count": 103,
   "id": "destroyed-praise",
   "metadata": {},
   "outputs": [],
   "source": [
    "f = open('test.txt')"
   ]
  },
  {
   "cell_type": "code",
   "execution_count": 104,
   "id": "norman-mixer",
   "metadata": {},
   "outputs": [
    {
     "name": "stdout",
     "output_type": "stream",
     "text": [
      "T\n",
      "h\n",
      "i\n",
      "s\n",
      " \n",
      "i\n",
      "s\n",
      " \n",
      "t\n",
      "e\n",
      "s\n",
      "t\n",
      "i\n",
      "n\n",
      "g\n"
     ]
    }
   ],
   "source": [
    "for i in f.read():\n",
    "    print(i)"
   ]
  },
  {
   "cell_type": "code",
   "execution_count": 106,
   "id": "adjustable-perry",
   "metadata": {},
   "outputs": [
    {
     "name": "stderr",
     "output_type": "stream",
     "text": [
      "UsageError: Line magic function `%%writefile` not found.\n"
     ]
    }
   ],
   "source": [
    "# another way to write file \n",
    "\n",
    "%%writefile test1.txt\n",
    "this is testing"
   ]
  },
  {
   "cell_type": "markdown",
   "id": "cleared-florida",
   "metadata": {},
   "source": [
    "#### Operating System command"
   ]
  },
  {
   "cell_type": "code",
   "execution_count": 114,
   "id": "emotional-riding",
   "metadata": {},
   "outputs": [],
   "source": [
    "# import os library\n",
    "\n",
    "import os"
   ]
  },
  {
   "cell_type": "code",
   "execution_count": 117,
   "id": "impressed-planning",
   "metadata": {},
   "outputs": [
    {
     "data": {
      "text/plain": [
       "'/Users/nick/Desktop/iNeuron/python'"
      ]
     },
     "execution_count": 117,
     "metadata": {},
     "output_type": "execute_result"
    }
   ],
   "source": [
    "# present working directory\n",
    "os.getcwd()"
   ]
  },
  {
   "cell_type": "code",
   "execution_count": 118,
   "id": "verified-basics",
   "metadata": {},
   "outputs": [
    {
     "data": {
      "text/plain": [
       "['Assignments-Basic Python',\n",
       " 'Day9.ipynb',\n",
       " '.DS_Store',\n",
       " 'Day8.ipynb',\n",
       " 'Day2.ipynb',\n",
       " 'Day6.ipynb',\n",
       " 'Day4.ipynb',\n",
       " 'test.txt',\n",
       " '.ipynb_checkpoints',\n",
       " 'Day3.ipynb',\n",
       " 'Day1.ipynb',\n",
       " 'Day5.ipynb',\n",
       " 'Assignments-Basic Programming',\n",
       " 'Day7.ipynb']"
      ]
     },
     "execution_count": 118,
     "metadata": {},
     "output_type": "execute_result"
    }
   ],
   "source": [
    "# to check the list of files available inside directoty\n",
    "\n",
    "os.listdir()"
   ]
  },
  {
   "cell_type": "code",
   "execution_count": 122,
   "id": "speaking-style",
   "metadata": {},
   "outputs": [],
   "source": [
    "# to change the current working directory\n",
    "\n",
    "os.chdir(\"/Users/nick/Desktop/iNeuron\")"
   ]
  },
  {
   "cell_type": "code",
   "execution_count": 123,
   "id": "great-employer",
   "metadata": {},
   "outputs": [
    {
     "data": {
      "text/plain": [
       "'/Users/nick/Desktop/iNeuron'"
      ]
     },
     "execution_count": 123,
     "metadata": {},
     "output_type": "execute_result"
    }
   ],
   "source": [
    "# present working directory\n",
    "os.getcwd()"
   ]
  },
  {
   "cell_type": "code",
   "execution_count": 124,
   "id": "convinced-liver",
   "metadata": {},
   "outputs": [],
   "source": [
    "os.chdir(\"/Users/nick/Desktop/iNeuron/python\")"
   ]
  },
  {
   "cell_type": "code",
   "execution_count": 125,
   "id": "catholic-recorder",
   "metadata": {},
   "outputs": [
    {
     "data": {
      "text/plain": [
       "'/Users/nick/Desktop/iNeuron/python'"
      ]
     },
     "execution_count": 125,
     "metadata": {},
     "output_type": "execute_result"
    }
   ],
   "source": [
    "# present working directory\n",
    "os.getcwd()"
   ]
  },
  {
   "cell_type": "code",
   "execution_count": 128,
   "id": "living-greece",
   "metadata": {},
   "outputs": [
    {
     "name": "stdout",
     "output_type": "stream",
     "text": [
      "File Present\n",
      "<_io.TextIOWrapper name='test.txt' mode='r' encoding='UTF-8'>\n"
     ]
    }
   ],
   "source": [
    "# checking if file is present into directory or not\n",
    "\n",
    "if \"test.txt\" in os.listdir():\n",
    "    print(\"File Present\")\n",
    "    f = open(\"test.txt\")\n",
    "    print(f) \n",
    "else:\n",
    "    print(\"Not present\")"
   ]
  },
  {
   "cell_type": "code",
   "execution_count": 129,
   "id": "unlimited-teaching",
   "metadata": {},
   "outputs": [],
   "source": [
    "# to create a directory\n",
    "\n",
    "os.mkdir(\"Test\")"
   ]
  },
  {
   "cell_type": "code",
   "execution_count": 132,
   "id": "integrated-charm",
   "metadata": {},
   "outputs": [],
   "source": [
    "if not os.path.isdir(\"Test\"):\n",
    "    os.mkdir(\"Test\")"
   ]
  },
  {
   "cell_type": "code",
   "execution_count": 131,
   "id": "vietnamese-cause",
   "metadata": {},
   "outputs": [],
   "source": [
    "# renaming the file\n",
    "\n",
    "os.rename('test.txt','new.txt')"
   ]
  },
  {
   "cell_type": "code",
   "execution_count": 133,
   "id": "faced-delaware",
   "metadata": {},
   "outputs": [],
   "source": [
    "# to remove directory\n",
    "\n",
    "os.rmdir('Test')"
   ]
  },
  {
   "cell_type": "code",
   "execution_count": null,
   "id": "federal-dependence",
   "metadata": {},
   "outputs": [],
   "source": [
    "# move file from one place to another\n",
    "\n",
    "import shutil\n",
    "shutil.move(\"path1\\file1\",\"path2\\file1\")"
   ]
  },
  {
   "cell_type": "markdown",
   "id": "advised-worcester",
   "metadata": {},
   "source": [
    "#### Que 1 : Create new directory.\n",
    "#### Que 2 : create 10 txt file and write some data into file at same time.\n",
    "#### Que 3: Read all the data from this dir and print in console.\n",
    "#### Que 4 : Hold all the data in list.\n",
    "#### Que 5 : Write all the data in new file from list.\n",
    "#### Que 6 :Keeping only new file in present directory and move rest in new directory."
   ]
  },
  {
   "cell_type": "code",
   "execution_count": null,
   "id": "variable-breach",
   "metadata": {},
   "outputs": [],
   "source": [
    "os.mkdir(\"Folder\")\n",
    "os.chdir(os.getcwd()+\"\\Folder\")\n",
    "for i in range(10):\n",
    "    file = \"test\"+str(i)+\".txt\"\n",
    "    f = open(file, 'w')\n",
    "    f.write(\"This is for Testing purpose\")\n",
    "    f.close()\n",
    "\n",
    "for i in range(10):\n",
    "    file = \"test\"+str(i)+\".txt\"\n",
    "    f = open(file, 'r')\n",
    "    data = f.read()\n",
    "    f.close()\n",
    "    print(data)\n",
    "\n",
    "l = []\n",
    "for i in range(10):\n",
    "    file = \"test\"+str(i)+\".txt\"\n",
    "    f = open(file, 'r')\n",
    "    l.append(f.read())\n",
    "    f.close()\n",
    "    \n",
    "print(l)\n",
    "\n",
    "f = open('new_file.txt', 'w')\n",
    "for i in l:\n",
    "    f.write(i)\n",
    "f.close()"
   ]
  }
 ],
 "metadata": {
  "kernelspec": {
   "display_name": "Python 3",
   "language": "python",
   "name": "python3"
  },
  "language_info": {
   "codemirror_mode": {
    "name": "ipython",
    "version": 3
   },
   "file_extension": ".py",
   "mimetype": "text/x-python",
   "name": "python",
   "nbconvert_exporter": "python",
   "pygments_lexer": "ipython3",
   "version": "3.9.1"
  }
 },
 "nbformat": 4,
 "nbformat_minor": 5
}
