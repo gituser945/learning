{
 "cells": [
  {
   "cell_type": "markdown",
   "id": "secondary-hungarian",
   "metadata": {},
   "source": [
    "### Day - 14 Python Programming"
   ]
  },
  {
   "cell_type": "markdown",
   "id": "boolean-longer",
   "metadata": {},
   "source": [
    "#### Abstraction\n",
    "Abstaraction prevent our variable to get modifies from outside without our permission"
   ]
  },
  {
   "cell_type": "code",
   "execution_count": 26,
   "id": "failing-starter",
   "metadata": {},
   "outputs": [],
   "source": [
    "class test:\n",
    "    def __init__(self,a,b,c,d):\n",
    "        self._a = a\n",
    "        self.b = b\n",
    "        self.c = c\n",
    "        self.d = d\n",
    "    def test_customer(self,v):\n",
    "        return v - self._a\n",
    "    \n",
    "    def __str__(self):\n",
    "        return \"this is my test code\""
   ]
  },
  {
   "cell_type": "code",
   "execution_count": 27,
   "id": "aquatic-mercy",
   "metadata": {},
   "outputs": [],
   "source": [
    "o = test(4,5,6,7)"
   ]
  },
  {
   "cell_type": "code",
   "execution_count": 28,
   "id": "floppy-grounds",
   "metadata": {},
   "outputs": [
    {
     "data": {
      "text/plain": [
       "3"
      ]
     },
     "execution_count": 28,
     "metadata": {},
     "output_type": "execute_result"
    }
   ],
   "source": [
    "o.test_customer(7)"
   ]
  },
  {
   "cell_type": "code",
   "execution_count": 29,
   "id": "difficult-advertiser",
   "metadata": {},
   "outputs": [
    {
     "data": {
      "text/plain": [
       "4"
      ]
     },
     "execution_count": 29,
     "metadata": {},
     "output_type": "execute_result"
    }
   ],
   "source": [
    "o._a"
   ]
  },
  {
   "cell_type": "code",
   "execution_count": 17,
   "id": "choice-church",
   "metadata": {},
   "outputs": [],
   "source": [
    "class test:\n",
    "    def __init__(self,a,b,c,d):\n",
    "        self.__a = a\n",
    "        self.b = b\n",
    "        self.c = c\n",
    "        self.d = d\n",
    "    def test_customer(self,v):\n",
    "        return v - self.__a\n",
    "    \n",
    "    def __str__(self):\n",
    "        return \"this is my test code\""
   ]
  },
  {
   "cell_type": "code",
   "execution_count": 19,
   "id": "employed-operation",
   "metadata": {
    "collapsed": true,
    "jupyter": {
     "outputs_hidden": true
    }
   },
   "outputs": [
    {
     "ename": "AttributeError",
     "evalue": "'test' object has no attribute '__a'",
     "output_type": "error",
     "traceback": [
      "\u001b[0;31m---------------------------------------------------------------------------\u001b[0m",
      "\u001b[0;31mAttributeError\u001b[0m                            Traceback (most recent call last)",
      "\u001b[0;32m<ipython-input-19-b2041cb8b605>\u001b[0m in \u001b[0;36m<module>\u001b[0;34m\u001b[0m\n\u001b[0;32m----> 1\u001b[0;31m \u001b[0mo\u001b[0m\u001b[0;34m.\u001b[0m\u001b[0m__a\u001b[0m \u001b[0;31m# because we are trying to access private variable outside the class\u001b[0m\u001b[0;34m\u001b[0m\u001b[0;34m\u001b[0m\u001b[0m\n\u001b[0m",
      "\u001b[0;31mAttributeError\u001b[0m: 'test' object has no attribute '__a'"
     ]
    }
   ],
   "source": [
    "o.__a # because we are trying to access private variable outside the class"
   ]
  },
  {
   "cell_type": "code",
   "execution_count": 21,
   "id": "restricted-literature",
   "metadata": {},
   "outputs": [
    {
     "data": {
      "text/plain": [
       "4"
      ]
     },
     "execution_count": 21,
     "metadata": {},
     "output_type": "execute_result"
    }
   ],
   "source": [
    "# but we can access private variable by using below code\n",
    "\n",
    "o._test__a"
   ]
  },
  {
   "cell_type": "markdown",
   "id": "bronze-pitch",
   "metadata": {},
   "source": [
    "### Different types are:\n",
    "<br> no underscore means public variable\n",
    "<br> single underscore before variable means protected(_a)\n",
    "<br> double underscore before variable means private (__a)"
   ]
  },
  {
   "cell_type": "markdown",
   "id": "existing-fusion",
   "metadata": {},
   "source": [
    "#### Inheritance\n",
    "Inheritance allows us to use the properties of parent class to our child class"
   ]
  },
  {
   "cell_type": "code",
   "execution_count": 32,
   "id": "personal-rendering",
   "metadata": {},
   "outputs": [],
   "source": [
    "class test1(test):\n",
    "    def __init__(self,j,*args):\n",
    "        super(test1,self).__init__(*args)\n",
    "        self.j = j"
   ]
  },
  {
   "cell_type": "code",
   "execution_count": 33,
   "id": "unable-label",
   "metadata": {},
   "outputs": [],
   "source": [
    "m = test1(4,5,6,7,8)"
   ]
  },
  {
   "cell_type": "code",
   "execution_count": 34,
   "id": "ethical-newark",
   "metadata": {},
   "outputs": [
    {
     "data": {
      "text/plain": [
       "3"
      ]
     },
     "execution_count": 34,
     "metadata": {},
     "output_type": "execute_result"
    }
   ],
   "source": [
    "m.test_customer(8) # able to access parent class method from child class"
   ]
  },
  {
   "cell_type": "markdown",
   "id": "periodic-coordinate",
   "metadata": {},
   "source": [
    "### Encapsulation\n",
    "\n",
    "Hiding the implementation details"
   ]
  },
  {
   "cell_type": "code",
   "execution_count": 10,
   "id": "female-potential",
   "metadata": {},
   "outputs": [],
   "source": [
    "class test:\n",
    "    def __init__(self,a,b,c):\n",
    "        self.a = a\n",
    "        self.b = b\n",
    "        self.c = c\n",
    "    \n",
    "    def __str__(self):\n",
    "        return \"This is test class\"\n",
    "\n",
    "class test1:\n",
    "    def __init__(self,a,b,c):\n",
    "        self.a = a\n",
    "        self.b = b\n",
    "        self.c = c\n",
    "    \n",
    "    def __str__(self):\n",
    "        return \"This is test1 class\"\n",
    "    \n",
    "class test2:\n",
    "    def __init__(self,a,b,c):\n",
    "        self.a = a\n",
    "        self.b = b\n",
    "        self.c = c\n",
    "    \n",
    "    def __str__(self):\n",
    "        return \"This is test2 class\"\n",
    "    \n",
    "class final:\n",
    "    def __init__(self,test,test1,test2):\n",
    "        self.test = test\n",
    "        self.test1 = test1\n",
    "        self.test2 = test2\n",
    "        \n",
    "    def __str__(self):\n",
    "        return \"This is final class\" + \" \" +str(self.test) + \" \" +str(self.test1) + \" \" +str(self.test2)"
   ]
  },
  {
   "cell_type": "code",
   "execution_count": 11,
   "id": "referenced-second",
   "metadata": {},
   "outputs": [],
   "source": [
    "t = test(4,5,6)\n",
    "t1 = test1(6,7,8)\n",
    "t2 = test2(9,10,11)\n",
    "f = final(t,t1,t2)"
   ]
  },
  {
   "cell_type": "code",
   "execution_count": 12,
   "id": "automotive-faith",
   "metadata": {},
   "outputs": [
    {
     "name": "stdout",
     "output_type": "stream",
     "text": [
      "This is final class This is test class This is test1 class This is test2 class\n"
     ]
    }
   ],
   "source": [
    "print(f)"
   ]
  }
 ],
 "metadata": {
  "kernelspec": {
   "display_name": "Python 3",
   "language": "python",
   "name": "python3"
  },
  "language_info": {
   "codemirror_mode": {
    "name": "ipython",
    "version": 3
   },
   "file_extension": ".py",
   "mimetype": "text/x-python",
   "name": "python",
   "nbconvert_exporter": "python",
   "pygments_lexer": "ipython3",
   "version": "3.9.1"
  }
 },
 "nbformat": 4,
 "nbformat_minor": 5
}
