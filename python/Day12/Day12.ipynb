{
 "cells": [
  {
   "cell_type": "markdown",
   "id": "removed-samuel",
   "metadata": {},
   "source": [
    "## Day 12 -- Python Programming\n",
    "***"
   ]
  },
  {
   "cell_type": "markdown",
   "id": "curious-aurora",
   "metadata": {},
   "source": [
    "### Object Oriented Programming(OOPS)\n",
    "\n",
    "Object is an instance of a class.\n",
    "<br> Advantages of OOPS Concept:\n",
    "<br> * `Modular Coding`\n",
    "<br> * `Reusability`\n",
    "<br> * `Readability`"
   ]
  },
  {
   "cell_type": "code",
   "execution_count": 1,
   "id": "colonial-japan",
   "metadata": {},
   "outputs": [],
   "source": [
    "# Create class using keyword class\n",
    "# created class car but we have not specified definition.\n",
    "\n",
    "class car:\n",
    "    pass"
   ]
  },
  {
   "cell_type": "code",
   "execution_count": 3,
   "id": "ultimate-nomination",
   "metadata": {},
   "outputs": [],
   "source": [
    "# creating object with car class\n",
    "\n",
    "BMW = car()"
   ]
  },
  {
   "cell_type": "code",
   "execution_count": 5,
   "id": "defined-session",
   "metadata": {},
   "outputs": [],
   "source": [
    "# creating object of car class\n",
    "\n",
    "BMW.milage = 10\n",
    "BMW.year = 1970\n",
    "BMW.make = 123\n",
    "BMW.model = \"Model1\""
   ]
  },
  {
   "cell_type": "code",
   "execution_count": 6,
   "id": "republican-gibraltar",
   "metadata": {},
   "outputs": [
    {
     "data": {
      "text/plain": [
       "1970"
      ]
     },
     "execution_count": 6,
     "metadata": {},
     "output_type": "execute_result"
    }
   ],
   "source": [
    "# accessing object value of car class\n",
    "\n",
    "BMW.year"
   ]
  },
  {
   "cell_type": "code",
   "execution_count": 8,
   "id": "vocational-session",
   "metadata": {},
   "outputs": [],
   "source": [
    "# creating another object of class car\n",
    "\n",
    "nano = car()\n",
    "\n",
    "nano.milage = 15\n",
    "nano.year = 2010\n",
    "nano.make = 111\n",
    "nano.model = \"Model1\"\n",
    "nano.engine = \"Disel\""
   ]
  },
  {
   "cell_type": "code",
   "execution_count": 9,
   "id": "conceptual-graham",
   "metadata": {},
   "outputs": [
    {
     "data": {
      "text/plain": [
       "'Disel'"
      ]
     },
     "execution_count": 9,
     "metadata": {},
     "output_type": "execute_result"
    }
   ],
   "source": [
    "nano.engine"
   ]
  },
  {
   "cell_type": "code",
   "execution_count": 10,
   "id": "allied-calcium",
   "metadata": {},
   "outputs": [
    {
     "name": "stdout",
     "output_type": "stream",
     "text": [
      "15 10\n"
     ]
    }
   ],
   "source": [
    "# printing both object's data from class car\n",
    "\n",
    "print(nano.milage,BMW.milage)"
   ]
  },
  {
   "cell_type": "code",
   "execution_count": 15,
   "id": "homeless-yemen",
   "metadata": {},
   "outputs": [],
   "source": [
    "# class example\n",
    "\n",
    "class car:\n",
    "    def __init__(self,milage,year,make,model): # __init__ is inbuilt function use to pass data to class/initilization of data.\n",
    "        self.milage = milage                   # self is a pointer to class\n",
    "        self.year = year\n",
    "        self.make = make\n",
    "        self.model = model"
   ]
  },
  {
   "cell_type": "code",
   "execution_count": 16,
   "id": "billion-popularity",
   "metadata": {},
   "outputs": [],
   "source": [
    "# creating object of car class\n",
    "\n",
    "maruti = car(20,1960,222,\"XYZ\")"
   ]
  },
  {
   "cell_type": "code",
   "execution_count": 17,
   "id": "affected-times",
   "metadata": {},
   "outputs": [
    {
     "data": {
      "text/plain": [
       "20"
      ]
     },
     "execution_count": 17,
     "metadata": {},
     "output_type": "execute_result"
    }
   ],
   "source": [
    "maruti.milage"
   ]
  },
  {
   "cell_type": "markdown",
   "id": "fitted-courage",
   "metadata": {},
   "source": [
    "* If we don not specify self inside class definition then it'll take any other variable as pointer provided in place of self.\n",
    "* When we create any object of class then `__init__` will be called by default with all signature.\n",
    "* to access value we suppose to call `Class variable`."
   ]
  },
  {
   "cell_type": "code",
   "execution_count": 30,
   "id": "recreational-vermont",
   "metadata": {},
   "outputs": [],
   "source": [
    "class car:\n",
    "    def __init__(self,milage,year,make,model):\n",
    "        self.milage = milage                   \n",
    "        self.year = year\n",
    "        self.make = make\n",
    "        self.model = model\n",
    "    \n",
    "    def age(self,current_year):         # custom method\n",
    "        return current_year - self.year\n",
    "    \n",
    "    def __str__(c):\n",
    "        return \"This is car class.It is custom class with car details\""
   ]
  },
  {
   "cell_type": "code",
   "execution_count": 31,
   "id": "permanent-campaign",
   "metadata": {},
   "outputs": [],
   "source": [
    "maruti = car(20,1960,222,\"XYZ\")"
   ]
  },
  {
   "cell_type": "code",
   "execution_count": 32,
   "id": "important-matter",
   "metadata": {},
   "outputs": [
    {
     "data": {
      "text/plain": [
       "61"
      ]
     },
     "execution_count": 32,
     "metadata": {},
     "output_type": "execute_result"
    }
   ],
   "source": [
    "maruti.age(2021)"
   ]
  },
  {
   "cell_type": "code",
   "execution_count": 33,
   "id": "surprised-coaching",
   "metadata": {},
   "outputs": [
    {
     "data": {
      "text/plain": [
       "<__main__.car at 0x7f89543333a0>"
      ]
     },
     "execution_count": 33,
     "metadata": {},
     "output_type": "execute_result"
    }
   ],
   "source": [
    "maruti"
   ]
  },
  {
   "cell_type": "code",
   "execution_count": 34,
   "id": "breeding-phoenix",
   "metadata": {},
   "outputs": [
    {
     "name": "stdout",
     "output_type": "stream",
     "text": [
      "This is car class.It is custom class with car details\n"
     ]
    }
   ],
   "source": [
    "print(maruti)"
   ]
  },
  {
   "cell_type": "code",
   "execution_count": 72,
   "id": "white-playing",
   "metadata": {},
   "outputs": [],
   "source": [
    "# example\n",
    "\n",
    "class student:\n",
    "    \"\"\"\n",
    "    This is custom class.\n",
    "    This is basically for car details.\n",
    "    \"\"\"\n",
    "    def __init__(self,name,roll,joining_data,topic):\n",
    "        self.name = name\n",
    "        self.roll = roll\n",
    "        self.joining_data = joining_data\n",
    "        self.topic = topic\n",
    "        \n",
    "    def name_parsing(self):\n",
    "        if type(self.name) == list:\n",
    "            for i in self.name:\n",
    "                print(i)\n",
    "        else:\n",
    "            print(\"name not in list\")\n",
    "        \n",
    "    def current_topic(self):\n",
    "        print(\"The current topic is\",self.topic)\n",
    "        \n",
    "    def str_roll(self):\n",
    "        if type(self.roll) == str:\n",
    "            print(\"do nothin\")\n",
    "        else:\n",
    "            return str(self.roll)\n",
    "    \n",
    "    def duration(self,current_date):\n",
    "        print('The duration of class is ',current_date - self.joining_data)\n",
    "        "
   ]
  },
  {
   "cell_type": "code",
   "execution_count": 73,
   "id": "cooked-example",
   "metadata": {},
   "outputs": [],
   "source": [
    "user = student('Nick',123,2020,\"FSDC\")"
   ]
  },
  {
   "cell_type": "code",
   "execution_count": 74,
   "id": "golden-classics",
   "metadata": {},
   "outputs": [
    {
     "data": {
      "text/plain": [
       "'Nick'"
      ]
     },
     "execution_count": 74,
     "metadata": {},
     "output_type": "execute_result"
    }
   ],
   "source": [
    "user.name"
   ]
  },
  {
   "cell_type": "code",
   "execution_count": 75,
   "id": "different-familiar",
   "metadata": {},
   "outputs": [
    {
     "data": {
      "text/plain": [
       "'FSDC'"
      ]
     },
     "execution_count": 75,
     "metadata": {},
     "output_type": "execute_result"
    }
   ],
   "source": [
    "user.topic"
   ]
  },
  {
   "cell_type": "code",
   "execution_count": 76,
   "id": "restricted-generator",
   "metadata": {},
   "outputs": [
    {
     "name": "stdout",
     "output_type": "stream",
     "text": [
      "The duration of class is  1\n"
     ]
    }
   ],
   "source": [
    "user.duration(2021)"
   ]
  },
  {
   "cell_type": "code",
   "execution_count": 77,
   "id": "filled-algorithm",
   "metadata": {},
   "outputs": [
    {
     "data": {
      "text/plain": [
       "123"
      ]
     },
     "execution_count": 77,
     "metadata": {},
     "output_type": "execute_result"
    }
   ],
   "source": [
    "user.roll"
   ]
  },
  {
   "cell_type": "code",
   "execution_count": 78,
   "id": "cutting-shopping",
   "metadata": {},
   "outputs": [
    {
     "data": {
      "text/plain": [
       "'123'"
      ]
     },
     "execution_count": 78,
     "metadata": {},
     "output_type": "execute_result"
    }
   ],
   "source": [
    "user.str_roll()"
   ]
  },
  {
   "cell_type": "code",
   "execution_count": 79,
   "id": "adolescent-candle",
   "metadata": {},
   "outputs": [],
   "source": [
    "user1 = student([\"user2\",\"user3\",\"user4\",\"user5\"],[2,3,4,5],2021,\"FSDS\")"
   ]
  },
  {
   "cell_type": "code",
   "execution_count": 80,
   "id": "tender-scottish",
   "metadata": {},
   "outputs": [
    {
     "data": {
      "text/plain": [
       "['user2', 'user3', 'user4', 'user5']"
      ]
     },
     "execution_count": 80,
     "metadata": {},
     "output_type": "execute_result"
    }
   ],
   "source": [
    "user1.name"
   ]
  },
  {
   "cell_type": "code",
   "execution_count": 81,
   "id": "closing-rider",
   "metadata": {},
   "outputs": [
    {
     "name": "stdout",
     "output_type": "stream",
     "text": [
      "user2\n",
      "user3\n",
      "user4\n",
      "user5\n"
     ]
    }
   ],
   "source": [
    "user1.name_parsing()"
   ]
  },
  {
   "cell_type": "code",
   "execution_count": 82,
   "id": "durable-mathematics",
   "metadata": {},
   "outputs": [],
   "source": [
    "# Practice Task\n",
    "\n",
    "# level - 1\n",
    "\n",
    "# create a class called data.\n",
    "# Inside data create 4 class variable file_name,file_type,date,size.\n",
    "# Create a function file_open which will take file name and then create file with file name.\n",
    "# write something in file.\n",
    "# Create function file_read which will read the file.\n",
    "# create another function file_append which will append data to existing file.\n",
    "\n",
    "# level 2\n",
    "\n",
    "# Implement exception handling\n",
    "# implement logger"
   ]
  },
  {
   "cell_type": "code",
   "execution_count": 101,
   "id": "coral-roberts",
   "metadata": {},
   "outputs": [],
   "source": [
    "# level - 1\n",
    "\n",
    "class data:\n",
    "    def __init__(self,file_name,file_type,file_date,file_size):\n",
    "        self.file_name = file_name\n",
    "        self.file_type = file_type\n",
    "        self.file_date = file_date\n",
    "        self.file_size = file_size\n",
    "        \n",
    "    def file_open(self):\n",
    "        try:\n",
    "            f = open(self.file_name,\"w\")\n",
    "            f.write(\"This is Test\")\n",
    "            f.close()\n",
    "        except Exception as e:\n",
    "            print(e)\n",
    "        \n",
    "    def file_read(self):\n",
    "        f = open(self.file_name,\"r\")\n",
    "        print(f.read())\n",
    "        f.close()\n",
    "        \n",
    "        \n",
    "    def file_append(self):\n",
    "        f = open(self.file_name,\"a\")\n",
    "        f.write(\"Additional text\")\n",
    "        f.close()"
   ]
  },
  {
   "cell_type": "code",
   "execution_count": 102,
   "id": "chronic-canberra",
   "metadata": {},
   "outputs": [],
   "source": [
    "# creating variable of class data\n",
    "\n",
    "file = data(\"test\",\".txt\",2021,100)"
   ]
  },
  {
   "cell_type": "code",
   "execution_count": 103,
   "id": "traditional-doctrine",
   "metadata": {},
   "outputs": [],
   "source": [
    "# file open\n",
    "\n",
    "file.file_open()"
   ]
  },
  {
   "cell_type": "code",
   "execution_count": 104,
   "id": "israeli-defense",
   "metadata": {},
   "outputs": [
    {
     "name": "stdout",
     "output_type": "stream",
     "text": [
      "This is Test\n"
     ]
    }
   ],
   "source": [
    "# file read\n",
    "\n",
    "file.file_read()"
   ]
  },
  {
   "cell_type": "code",
   "execution_count": 105,
   "id": "complimentary-finland",
   "metadata": {},
   "outputs": [],
   "source": [
    "# file append\n",
    "\n",
    "file.file_append()"
   ]
  }
 ],
 "metadata": {
  "kernelspec": {
   "display_name": "Python 3",
   "language": "python",
   "name": "python3"
  },
  "language_info": {
   "codemirror_mode": {
    "name": "ipython",
    "version": 3
   },
   "file_extension": ".py",
   "mimetype": "text/x-python",
   "name": "python",
   "nbconvert_exporter": "python",
   "pygments_lexer": "ipython3",
   "version": "3.9.1"
  }
 },
 "nbformat": 4,
 "nbformat_minor": 5
}
