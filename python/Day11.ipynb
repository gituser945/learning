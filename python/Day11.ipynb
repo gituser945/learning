{
 "cells": [
  {
   "cell_type": "markdown",
   "id": "surface-commonwealth",
   "metadata": {},
   "source": [
    "## Day 11 -- Python Programming\n",
    "***"
   ]
  },
  {
   "cell_type": "markdown",
   "id": "premium-british",
   "metadata": {},
   "source": [
    "### Packages and modules in python"
   ]
  },
  {
   "cell_type": "code",
   "execution_count": 1,
   "id": "becoming-storage",
   "metadata": {},
   "outputs": [],
   "source": [
    "# import maths package\n",
    "\n",
    "import math"
   ]
  },
  {
   "cell_type": "code",
   "execution_count": 2,
   "id": "infrared-establishment",
   "metadata": {},
   "outputs": [
    {
     "data": {
      "text/plain": [
       "3.0"
      ]
     },
     "execution_count": 2,
     "metadata": {},
     "output_type": "execute_result"
    }
   ],
   "source": [
    "math.sqrt(9)"
   ]
  },
  {
   "cell_type": "code",
   "execution_count": 3,
   "id": "possible-farmer",
   "metadata": {},
   "outputs": [],
   "source": [
    "# importing multiple packages\n",
    "\n",
    "from math import sin,sqrt"
   ]
  },
  {
   "cell_type": "code",
   "execution_count": 4,
   "id": "finite-quick",
   "metadata": {},
   "outputs": [
    {
     "data": {
      "text/plain": [
       "3.1622776601683795"
      ]
     },
     "execution_count": 4,
     "metadata": {},
     "output_type": "execute_result"
    }
   ],
   "source": [
    "sqrt(10)"
   ]
  },
  {
   "cell_type": "code",
   "execution_count": 5,
   "id": "rising-accreditation",
   "metadata": {},
   "outputs": [],
   "source": [
    "# Import entire function of package we use astrick sign\n",
    "\n",
    "from math import *"
   ]
  },
  {
   "cell_type": "code",
   "execution_count": 6,
   "id": "alpha-romance",
   "metadata": {},
   "outputs": [
    {
     "data": {
      "text/plain": [
       "3.141592653589793"
      ]
     },
     "execution_count": 6,
     "metadata": {},
     "output_type": "execute_result"
    }
   ],
   "source": [
    "pi"
   ]
  },
  {
   "cell_type": "code",
   "execution_count": 7,
   "id": "agreed-bible",
   "metadata": {},
   "outputs": [],
   "source": [
    "# checking current working directory\n",
    "\n",
    "import os\n",
    "os.getcwd()\n",
    "\n",
    "os.chdir(os.getcwd() + \"/\" + \"Day11\")"
   ]
  },
  {
   "cell_type": "code",
   "execution_count": 8,
   "id": "british-machinery",
   "metadata": {},
   "outputs": [
    {
     "data": {
      "text/plain": [
       "'/Users/nick/Desktop/DSiN/python/Day11'"
      ]
     },
     "execution_count": 8,
     "metadata": {},
     "output_type": "execute_result"
    }
   ],
   "source": [
    "os.getcwd()"
   ]
  },
  {
   "cell_type": "code",
   "execution_count": 15,
   "id": "personal-trade",
   "metadata": {},
   "outputs": [],
   "source": [
    "# creating own module\n",
    "# we have created test.py where we have written our module\n",
    "\n",
    "import test"
   ]
  },
  {
   "cell_type": "code",
   "execution_count": 10,
   "id": "alien-banner",
   "metadata": {},
   "outputs": [],
   "source": [
    "# to reload same module again\n",
    "\n",
    "import imp\n",
    "imp.reload(test)"
   ]
  },
  {
   "cell_type": "code",
   "execution_count": 19,
   "id": "cultural-techno",
   "metadata": {},
   "outputs": [],
   "source": [
    "# importing custom mudule we created now\n",
    "\n",
    "import custom"
   ]
  },
  {
   "cell_type": "code",
   "execution_count": 20,
   "id": "found-beach",
   "metadata": {},
   "outputs": [
    {
     "data": {
      "text/plain": [
       "4"
      ]
     },
     "execution_count": 20,
     "metadata": {},
     "output_type": "execute_result"
    }
   ],
   "source": [
    "custom.power(2)"
   ]
  },
  {
   "cell_type": "code",
   "execution_count": 21,
   "id": "purple-workshop",
   "metadata": {},
   "outputs": [
    {
     "data": {
      "text/plain": [
       "13"
      ]
     },
     "execution_count": 21,
     "metadata": {},
     "output_type": "execute_result"
    }
   ],
   "source": [
    "custom.add(3,10)"
   ]
  },
  {
   "cell_type": "code",
   "execution_count": 22,
   "id": "searching-photographer",
   "metadata": {},
   "outputs": [],
   "source": [
    "# Practice Task\n",
    "\n",
    "# inside test directory inside test directory create mod1.py,mod2.py,mod3.py file\n",
    "# mod1.py create fun1,fun2,fun3\n",
    "# mod2.py create fun21,fun22,fun23\n",
    "# mod3.py create fun31,fun32,fun33\n",
    "# create a notbook file inside test dir and import all functions created"
   ]
  },
  {
   "cell_type": "code",
   "execution_count": 39,
   "id": "equipped-biology",
   "metadata": {},
   "outputs": [
    {
     "data": {
      "text/plain": [
       "'/Users/nick/Desktop/DSiN/python/Day11'"
      ]
     },
     "execution_count": 39,
     "metadata": {},
     "output_type": "execute_result"
    }
   ],
   "source": [
    "# checking current working directory\n",
    "\n",
    "os.getcwd()"
   ]
  },
  {
   "cell_type": "code",
   "execution_count": 30,
   "id": "early-saying",
   "metadata": {},
   "outputs": [],
   "source": [
    "# creating parent test directory\n",
    "\n",
    "os.mkdir(\"Test\")"
   ]
  },
  {
   "cell_type": "code",
   "execution_count": 31,
   "id": "rough-friday",
   "metadata": {},
   "outputs": [],
   "source": [
    "# changing current working directory to test\n",
    "\n",
    "os.chdir(os.getcwd()+ \"/\" + \"Test\")"
   ]
  },
  {
   "cell_type": "code",
   "execution_count": 34,
   "id": "humanitarian-cloud",
   "metadata": {},
   "outputs": [],
   "source": [
    "# creating child test directory inside parent test directory\n",
    "\n",
    "os.mkdir(\"Test\")"
   ]
  },
  {
   "cell_type": "code",
   "execution_count": 35,
   "id": "moral-carpet",
   "metadata": {},
   "outputs": [],
   "source": [
    "os.chdir(os.getcwd()+ \"/\" + \"Test\")"
   ]
  },
  {
   "cell_type": "code",
   "execution_count": 38,
   "id": "light-egypt",
   "metadata": {},
   "outputs": [],
   "source": [
    "os.chdir(\"/Users/nick/Desktop/DSiN/python/Day11\")"
   ]
  },
  {
   "cell_type": "code",
   "execution_count": 40,
   "id": "spoken-england",
   "metadata": {},
   "outputs": [
    {
     "data": {
      "text/plain": [
       "'/Users/nick/Desktop/DSiN/python/Day11'"
      ]
     },
     "execution_count": 40,
     "metadata": {},
     "output_type": "execute_result"
    }
   ],
   "source": [
    "os.getcwd()"
   ]
  },
  {
   "cell_type": "code",
   "execution_count": 45,
   "id": "military-assets",
   "metadata": {},
   "outputs": [],
   "source": [
    "# import \n",
    "\n",
    "from Test.Test import mod1"
   ]
  },
  {
   "cell_type": "markdown",
   "id": "specified-information",
   "metadata": {},
   "source": [
    "### Exception Handling\n",
    "\n",
    "<br> Types of Exception handling.\n",
    "<br> IO exception for Input Output error.\n",
    "<br> Arithmetic Exception for Maths related error."
   ]
  },
  {
   "cell_type": "code",
   "execution_count": 49,
   "id": "republican-orchestra",
   "metadata": {},
   "outputs": [],
   "source": [
    "# function to give error for divide by zero\n",
    "\n",
    "def div(a,b):\n",
    "    return a/b"
   ]
  },
  {
   "cell_type": "code",
   "execution_count": 50,
   "id": "defined-answer",
   "metadata": {},
   "outputs": [
    {
     "ename": "ZeroDivisionError",
     "evalue": "division by zero",
     "output_type": "error",
     "traceback": [
      "\u001b[0;31m---------------------------------------------------------------------------\u001b[0m",
      "\u001b[0;31mZeroDivisionError\u001b[0m                         Traceback (most recent call last)",
      "\u001b[0;32m<ipython-input-50-e8564b965c01>\u001b[0m in \u001b[0;36m<module>\u001b[0;34m\u001b[0m\n\u001b[0;32m----> 1\u001b[0;31m \u001b[0mdiv\u001b[0m\u001b[0;34m(\u001b[0m\u001b[0;36m1\u001b[0m\u001b[0;34m,\u001b[0m\u001b[0;36m0\u001b[0m\u001b[0;34m)\u001b[0m\u001b[0;34m\u001b[0m\u001b[0;34m\u001b[0m\u001b[0m\n\u001b[0m",
      "\u001b[0;32m<ipython-input-49-37c13120854a>\u001b[0m in \u001b[0;36mdiv\u001b[0;34m(a, b)\u001b[0m\n\u001b[1;32m      2\u001b[0m \u001b[0;34m\u001b[0m\u001b[0m\n\u001b[1;32m      3\u001b[0m \u001b[0;32mdef\u001b[0m \u001b[0mdiv\u001b[0m\u001b[0;34m(\u001b[0m\u001b[0ma\u001b[0m\u001b[0;34m,\u001b[0m\u001b[0mb\u001b[0m\u001b[0;34m)\u001b[0m\u001b[0;34m:\u001b[0m\u001b[0;34m\u001b[0m\u001b[0;34m\u001b[0m\u001b[0m\n\u001b[0;32m----> 4\u001b[0;31m     \u001b[0;32mreturn\u001b[0m \u001b[0ma\u001b[0m\u001b[0;34m/\u001b[0m\u001b[0mb\u001b[0m\u001b[0;34m\u001b[0m\u001b[0;34m\u001b[0m\u001b[0m\n\u001b[0m",
      "\u001b[0;31mZeroDivisionError\u001b[0m: division by zero"
     ]
    }
   ],
   "source": [
    "div(1,0)"
   ]
  },
  {
   "cell_type": "code",
   "execution_count": 48,
   "id": "honest-description",
   "metadata": {},
   "outputs": [],
   "source": [
    "# when we have doubt about any set of code we put such code inside try part.\n",
    "# Once we put that block of code in try we need to handle using excep block.\n",
    "# except and catch is same.\n",
    "\n",
    "try:\n",
    "    div(1,0)\n",
    "except:\n",
    "    pass\n",
    "\n",
    "# now the same function is not giving any error as it's handled using try and except"
   ]
  },
  {
   "cell_type": "code",
   "execution_count": 51,
   "id": "soviet-demonstration",
   "metadata": {},
   "outputs": [
    {
     "name": "stdout",
     "output_type": "stream",
     "text": [
      "Divide by Zero not allowed\n"
     ]
    }
   ],
   "source": [
    "# pass custom message into except\n",
    "\n",
    "try:\n",
    "    div(1,0)\n",
    "except:\n",
    "    print(\"Divide by Zero not allowed\")"
   ]
  },
  {
   "cell_type": "code",
   "execution_count": 52,
   "id": "breathing-taste",
   "metadata": {},
   "outputs": [
    {
     "name": "stdout",
     "output_type": "stream",
     "text": [
      "Error Type :  division by zero\n"
     ]
    }
   ],
   "source": [
    "try:\n",
    "    div(1,0)\n",
    "except ArithmeticError as e:\n",
    "    print(\"Error Type : \",e)"
   ]
  },
  {
   "cell_type": "code",
   "execution_count": 54,
   "id": "engaged-dispute",
   "metadata": {},
   "outputs": [
    {
     "name": "stdin",
     "output_type": "stream",
     "text": [
      "Enter 1st number: 1\n",
      "Enter 2nd number: 3\n"
     ]
    },
    {
     "name": "stdout",
     "output_type": "stream",
     "text": [
      "This will execute when we have success try block\n"
     ]
    }
   ],
   "source": [
    "try:\n",
    "    a = int(input(\"Enter 1st number:\"))\n",
    "    b = int(input(\"Enter 2nd number:\"))\n",
    "    c = a/b\n",
    "except ArithmeticError as e:\n",
    "    print(\"Error Type :\",e)\n",
    "    f = open(\"test.txt\",\"w\")\n",
    "else:\n",
    "    print(\"This will execute when we have success try block\")"
   ]
  },
  {
   "cell_type": "code",
   "execution_count": 57,
   "id": "intimate-monday",
   "metadata": {},
   "outputs": [
    {
     "name": "stdin",
     "output_type": "stream",
     "text": [
      "Enter 1st number: 1\n",
      "Enter 2nd number: 0\n"
     ]
    },
    {
     "name": "stdout",
     "output_type": "stream",
     "text": [
      "Error Type : division by zero\n"
     ]
    }
   ],
   "source": [
    "try:\n",
    "    a = int(input(\"Enter 1st number:\"))\n",
    "    b = int(input(\"Enter 2nd number:\"))\n",
    "    c = a/b\n",
    "except ArithmeticError as e:\n",
    "    print(\"Error Type :\",e)\n",
    "    f = open(\"test.txt\",\"w\")\n",
    "    f.write(str(e))\n",
    "else:\n",
    "    print(\"This will execute when we have success try block\")"
   ]
  },
  {
   "cell_type": "code",
   "execution_count": 58,
   "id": "painful-course",
   "metadata": {},
   "outputs": [],
   "source": [
    "# finally block will be executed anyhow."
   ]
  },
  {
   "cell_type": "code",
   "execution_count": 59,
   "id": "nutritional-angola",
   "metadata": {},
   "outputs": [
    {
     "name": "stdout",
     "output_type": "stream",
     "text": [
      "try success\n",
      "finally i will execute in any case\n"
     ]
    }
   ],
   "source": [
    "try:\n",
    "    f = open(\"test1.txt\",\"w+\")\n",
    "except:\n",
    "    pass\n",
    "else:\n",
    "    print(\"try success\")\n",
    "finally:\n",
    "    print(\"finally i will execute in any case\")\n",
    "    l = [2,3,4,5]\n",
    "    try:\n",
    "        print(l[10])\n",
    "    except:\n",
    "        pass"
   ]
  },
  {
   "cell_type": "code",
   "execution_count": 77,
   "id": "southwest-brief",
   "metadata": {},
   "outputs": [],
   "source": [
    "# custom Exceptions:\n",
    "# we can write multiple except in same try block\n",
    "\n",
    "def int_only():\n",
    "    while True:\n",
    "        try:\n",
    "            a = int(input(\"Enter only integer:\"))\n",
    "        except Exception as e:\n",
    "            print(\"Not entered\",e)\n",
    "        else:\n",
    "            print(\"Integer Entered\")\n",
    "            break\n",
    "        finally:\n",
    "            print(\"Great!\")"
   ]
  },
  {
   "cell_type": "code",
   "execution_count": 78,
   "id": "becoming-facility",
   "metadata": {},
   "outputs": [
    {
     "name": "stdin",
     "output_type": "stream",
     "text": [
      "Enter only integer: 345\n"
     ]
    },
    {
     "name": "stdout",
     "output_type": "stream",
     "text": [
      "Integer Entered\n",
      "Great!\n"
     ]
    }
   ],
   "source": [
    "int_only()"
   ]
  },
  {
   "cell_type": "code",
   "execution_count": 81,
   "id": "handed-listing",
   "metadata": {},
   "outputs": [],
   "source": [
    "def int_only():\n",
    "    while True:\n",
    "        try:\n",
    "            a = int(input(\"Enter only integer:\"))\n",
    "            c = 1/a\n",
    "        except FileNotFoundError as e:\n",
    "            print(\"Exception 1 :\",e)\n",
    "        except ValueError as e:\n",
    "            print(\"Exception 2 :\",e)\n",
    "        except IOError as e:\n",
    "            print(\"Exception 3 :\",e)\n",
    "        except ArithmeticError as e:\n",
    "            print(\"Exception 4 :\",e)\n",
    "        except ZeroDivisionError as e:\n",
    "            print(\"Exception 5 :\",e)\n",
    "        else:\n",
    "            print(\"Integer Entered\")\n",
    "            break\n",
    "        finally:\n",
    "            print(\"Great!\")"
   ]
  },
  {
   "cell_type": "code",
   "execution_count": 100,
   "id": "naval-preview",
   "metadata": {},
   "outputs": [],
   "source": [
    "def create_exception(a):\n",
    "    if a == 6:\n",
    "        raise Exception(\"error is\",a)"
   ]
  },
  {
   "cell_type": "code",
   "execution_count": 101,
   "id": "square-alexander",
   "metadata": {},
   "outputs": [
    {
     "ename": "Exception",
     "evalue": "('error is', 6)",
     "output_type": "error",
     "traceback": [
      "\u001b[0;31m---------------------------------------------------------------------------\u001b[0m",
      "\u001b[0;31mException\u001b[0m                                 Traceback (most recent call last)",
      "\u001b[0;32m<ipython-input-101-fcabae6f4223>\u001b[0m in \u001b[0;36m<module>\u001b[0;34m\u001b[0m\n\u001b[0;32m----> 1\u001b[0;31m \u001b[0mcreate_exception\u001b[0m\u001b[0;34m(\u001b[0m\u001b[0;36m6\u001b[0m\u001b[0;34m)\u001b[0m\u001b[0;34m\u001b[0m\u001b[0;34m\u001b[0m\u001b[0m\n\u001b[0m",
      "\u001b[0;32m<ipython-input-100-bf52c9d399a2>\u001b[0m in \u001b[0;36mcreate_exception\u001b[0;34m(a)\u001b[0m\n\u001b[1;32m      1\u001b[0m \u001b[0;32mdef\u001b[0m \u001b[0mcreate_exception\u001b[0m\u001b[0;34m(\u001b[0m\u001b[0ma\u001b[0m\u001b[0;34m)\u001b[0m\u001b[0;34m:\u001b[0m\u001b[0;34m\u001b[0m\u001b[0;34m\u001b[0m\u001b[0m\n\u001b[1;32m      2\u001b[0m     \u001b[0;32mif\u001b[0m \u001b[0ma\u001b[0m \u001b[0;34m==\u001b[0m \u001b[0;36m6\u001b[0m\u001b[0;34m:\u001b[0m\u001b[0;34m\u001b[0m\u001b[0;34m\u001b[0m\u001b[0m\n\u001b[0;32m----> 3\u001b[0;31m         \u001b[0;32mraise\u001b[0m \u001b[0mException\u001b[0m\u001b[0;34m(\u001b[0m\u001b[0;34m\"error is\"\u001b[0m\u001b[0;34m,\u001b[0m\u001b[0ma\u001b[0m\u001b[0;34m)\u001b[0m\u001b[0;34m\u001b[0m\u001b[0;34m\u001b[0m\u001b[0m\n\u001b[0m",
      "\u001b[0;31mException\u001b[0m: ('error is', 6)"
     ]
    }
   ],
   "source": [
    "create_exception(6)"
   ]
  },
  {
   "cell_type": "code",
   "execution_count": 102,
   "id": "coastal-tooth",
   "metadata": {},
   "outputs": [],
   "source": [
    "create_exception(7)"
   ]
  },
  {
   "cell_type": "code",
   "execution_count": 103,
   "id": "unauthorized-great",
   "metadata": {},
   "outputs": [
    {
     "name": "stdout",
     "output_type": "stream",
     "text": [
      "('error is', 6)\n"
     ]
    }
   ],
   "source": [
    "try:\n",
    "    create_exception(6)\n",
    "except Exception as e:\n",
    "    print(e)"
   ]
  },
  {
   "cell_type": "code",
   "execution_count": null,
   "id": "artistic-austria",
   "metadata": {},
   "outputs": [],
   "source": [
    "# Practice Task\n",
    "\n",
    "# 1.Create a Folder named \"test\"\n",
    "# 2.inside \"test\" create a module mo1.py\n",
    "# 3.inside mo1 write a logic to print all even numbers\n",
    "# 4.inside \"test\" create ipynb file call mo1 from jupyter notebook\n",
    "# 5.while calling this module take input from user..user can input any type of data string,special char..etc\n",
    "# 6.try to handle all the edge cases\n",
    "# 7.try to log all the errors using logging"
   ]
  },
  {
   "cell_type": "code",
   "execution_count": 106,
   "id": "foster-conclusion",
   "metadata": {},
   "outputs": [],
   "source": [
    "def even_number(a,b):\n",
    "    try:\n",
    "        a = int(input(\"Enter 1st number\"))\n",
    "        b = int(input(\"Enter 2nd number\"))\n",
    "    except Exception as e:\n",
    "        logging.error(e)\n",
    "    else:\n",
    "        for i in range(a,b+1):\n",
    "            if i % 2 == 0:\n",
    "                print(i)\n",
    "                "
   ]
  },
  {
   "cell_type": "code",
   "execution_count": 107,
   "id": "nutritional-workshop",
   "metadata": {},
   "outputs": [
    {
     "name": "stdout",
     "output_type": "stream",
     "text": [
      "0\n",
      "2\n",
      "4\n",
      "6\n",
      "8\n",
      "10\n",
      "12\n",
      "14\n",
      "16\n",
      "18\n",
      "20\n",
      "22\n",
      "24\n",
      "26\n",
      "28\n",
      "30\n",
      "32\n",
      "34\n",
      "36\n",
      "38\n",
      "40\n",
      "42\n",
      "44\n",
      "46\n",
      "48\n",
      "50\n",
      "52\n",
      "54\n",
      "56\n",
      "58\n",
      "60\n",
      "62\n",
      "64\n",
      "66\n",
      "68\n",
      "70\n",
      "72\n",
      "74\n",
      "76\n",
      "78\n",
      "80\n",
      "82\n",
      "84\n",
      "86\n",
      "88\n",
      "90\n",
      "92\n",
      "94\n",
      "96\n",
      "98\n"
     ]
    }
   ],
   "source": []
  },
  {
   "cell_type": "code",
   "execution_count": null,
   "id": "knowing-wells",
   "metadata": {},
   "outputs": [],
   "source": []
  }
 ],
 "metadata": {
  "kernelspec": {
   "display_name": "Python 3",
   "language": "python",
   "name": "python3"
  },
  "language_info": {
   "codemirror_mode": {
    "name": "ipython",
    "version": 3
   },
   "file_extension": ".py",
   "mimetype": "text/x-python",
   "name": "python",
   "nbconvert_exporter": "python",
   "pygments_lexer": "ipython3",
   "version": "3.9.1"
  }
 },
 "nbformat": 4,
 "nbformat_minor": 5
}
