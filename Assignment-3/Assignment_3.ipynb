{
 "cells": [
  {
   "cell_type": "markdown",
   "id": "immune-aircraft",
   "metadata": {},
   "source": [
    "#### Assignment - 3"
   ]
  },
  {
   "cell_type": "markdown",
   "id": "romantic-paris",
   "metadata": {},
   "source": [
    "#### Question - 1\n",
    "***\n",
    "Why are functions advantageous to have in your programs?"
   ]
  },
  {
   "cell_type": "markdown",
   "id": "light-specification",
   "metadata": {},
   "source": [
    "#### Answer :\n",
    "\n",
    "The below are the advantages of writing function in program :\n",
    "* It is useful in code resuability means to perform same kind of task we do not require to write seperate code everytime instead of that we can write a single function and which can be called everytime.\n",
    "* It is useful in code readiblity as it avoid repeatation of same code again and again which helps in code readiblity.\n",
    "* Consume less memeory as repeatations of code is eliminated due to functions. "
   ]
  },
  {
   "cell_type": "markdown",
   "id": "understood-warehouse",
   "metadata": {},
   "source": [
    "#### Question - 2\n",
    "***"
   ]
  },
  {
   "cell_type": "markdown",
   "id": "commercial-korean",
   "metadata": {},
   "source": [
    " When does the code in a function run: when it's specified or when it's called?"
   ]
  },
  {
   "cell_type": "markdown",
   "id": "sorted-sociology",
   "metadata": {},
   "source": [
    "#### Answer :\n",
    "The code in a function run when the function is called. "
   ]
  },
  {
   "cell_type": "markdown",
   "id": "framed-ordinary",
   "metadata": {},
   "source": [
    "#### Question - 3\n",
    "***"
   ]
  },
  {
   "cell_type": "markdown",
   "id": "fifteen-neighbor",
   "metadata": {},
   "source": [
    "What statement creates a function?"
   ]
  },
  {
   "cell_type": "markdown",
   "id": "removable-contents",
   "metadata": {},
   "source": [
    "#### Answer :\n",
    "\n",
    "In python \"def\" followed by function name creates a function."
   ]
  },
  {
   "cell_type": "code",
   "execution_count": 3,
   "id": "indirect-moldova",
   "metadata": {},
   "outputs": [
    {
     "data": {
      "text/plain": [
       "7"
      ]
     },
     "execution_count": 3,
     "metadata": {},
     "output_type": "execute_result"
    }
   ],
   "source": [
    "# function example\n",
    "\n",
    "def add(a,b): # creating function definition using def keyword\n",
    "    c = a + b # function statement to perform addition of 2 numbers\n",
    "    return c  # after addition returning the final outcome\n",
    "\n",
    "\n",
    "add(4,3)"
   ]
  },
  {
   "cell_type": "markdown",
   "id": "entitled-battle",
   "metadata": {},
   "source": [
    "#### Question - 4\n",
    "***"
   ]
  },
  {
   "cell_type": "markdown",
   "id": "dramatic-consultation",
   "metadata": {},
   "source": [
    "What is the difference between a function and a function call?"
   ]
  },
  {
   "cell_type": "markdown",
   "id": "alpha-surgeon",
   "metadata": {},
   "source": [
    "#### Answer :\n",
    "function is basically a block of statements that is created to perform specfic task whereas function call is basically after creating function we call a function by using the function name specifically."
   ]
  },
  {
   "cell_type": "code",
   "execution_count": 4,
   "id": "finnish-audio",
   "metadata": {},
   "outputs": [
    {
     "data": {
      "text/plain": [
       "7"
      ]
     },
     "execution_count": 4,
     "metadata": {},
     "output_type": "execute_result"
    }
   ],
   "source": [
    "# function example\n",
    "\n",
    "def add(a,b): # creating function definition using def keyword\n",
    "    c = a + b # function statement to perform addition of 2 numbers\n",
    "    return c  # after addition returning the final outcome\n",
    "\n",
    "# function call\n",
    "\n",
    "add(4,3)"
   ]
  },
  {
   "cell_type": "markdown",
   "id": "opposed-milan",
   "metadata": {},
   "source": [
    "#### Question - 5\n",
    "***"
   ]
  },
  {
   "cell_type": "markdown",
   "id": "helpful-accountability",
   "metadata": {},
   "source": [
    "How many global scopes are there in a Python program? How many local scopes?"
   ]
  },
  {
   "cell_type": "markdown",
   "id": "administrative-tooth",
   "metadata": {},
   "source": [
    "#### Answer :\n",
    "\n",
    "One global scopes per python program.\n",
    "<br> Three local scopes in a single python program."
   ]
  },
  {
   "cell_type": "markdown",
   "id": "third-blocking",
   "metadata": {},
   "source": [
    "#### Question - 6\n",
    "***"
   ]
  },
  {
   "cell_type": "markdown",
   "id": "chicken-chancellor",
   "metadata": {},
   "source": [
    "What happens to variables in a local scope when the function call returns?"
   ]
  },
  {
   "cell_type": "markdown",
   "id": "skilled-fitting",
   "metadata": {},
   "source": [
    "#### Answer :\n",
    "\n",
    "The scope of a particular variable is within the same function itself so when the function call returns the local variable will be undefined and it'll retained it's value when the function call again. "
   ]
  },
  {
   "cell_type": "markdown",
   "id": "matched-belfast",
   "metadata": {},
   "source": [
    "#### Question - 7\n",
    "***"
   ]
  },
  {
   "cell_type": "markdown",
   "id": "exact-remove",
   "metadata": {},
   "source": [
    "What is the concept of a return value? Is it possible to have a return value in an expression?"
   ]
  },
  {
   "cell_type": "markdown",
   "id": "technical-train",
   "metadata": {},
   "source": [
    "#### Answer :\n",
    "\n",
    "It is possible to create a function with and without return value.So in case of functions with return value specified inside it will return any value once the function executions/function call completes whereas in case of functions without return value will not return any value when function call completes. "
   ]
  },
  {
   "cell_type": "code",
   "execution_count": 10,
   "id": "rotary-ordinary",
   "metadata": {},
   "outputs": [],
   "source": [
    "# function without return value\n",
    "\n",
    "def sum(a,b):\n",
    "    c = a + b\n",
    "\n",
    "# function call    \n",
    "sum(2,3) # the function doesn't return anythin even after function call completes."
   ]
  },
  {
   "cell_type": "code",
   "execution_count": 11,
   "id": "informed-niagara",
   "metadata": {},
   "outputs": [
    {
     "data": {
      "text/plain": [
       "34"
      ]
     },
     "execution_count": 11,
     "metadata": {},
     "output_type": "execute_result"
    }
   ],
   "source": [
    "# function with return value\n",
    "\n",
    "def sum(a,b):\n",
    "    c = a + b\n",
    "    return c # specifying return value inside function\n",
    "\n",
    "# function call\n",
    "sum(11,23) # returning value after sum"
   ]
  },
  {
   "cell_type": "markdown",
   "id": "incomplete-victorian",
   "metadata": {},
   "source": [
    "#### Question - 8\n",
    "***"
   ]
  },
  {
   "cell_type": "markdown",
   "id": "secret-population",
   "metadata": {},
   "source": [
    "If a function does not have a return statement, what is the return value of a call to that function?"
   ]
  },
  {
   "cell_type": "markdown",
   "id": "turned-swiss",
   "metadata": {},
   "source": [
    "#### Answer :\n",
    "Nothing"
   ]
  },
  {
   "cell_type": "markdown",
   "id": "clinical-controversy",
   "metadata": {},
   "source": [
    "#### Question - 9\n",
    "***\n",
    "How do you make a function variable refer to the global variable?"
   ]
  },
  {
   "cell_type": "markdown",
   "id": "instructional-framing",
   "metadata": {},
   "source": [
    "#### Answer :\n",
    "global variable scope is through out the program so for function variable the global variable will be defined already.So inshort global variables can be used by everyone, both inside of functions and outside."
   ]
  },
  {
   "cell_type": "markdown",
   "id": "textile-castle",
   "metadata": {},
   "source": [
    "#### Question - 10\n",
    "***\n",
    "What is the data type of None?"
   ]
  },
  {
   "cell_type": "markdown",
   "id": "understood-weekly",
   "metadata": {},
   "source": [
    "#### Answer :\n",
    "NoneType"
   ]
  },
  {
   "cell_type": "code",
   "execution_count": 14,
   "id": "cordless-integral",
   "metadata": {},
   "outputs": [
    {
     "data": {
      "text/plain": [
       "NoneType"
      ]
     },
     "execution_count": 14,
     "metadata": {},
     "output_type": "execute_result"
    }
   ],
   "source": [
    "x = None\n",
    "type(x)"
   ]
  },
  {
   "cell_type": "markdown",
   "id": "palestinian-rendering",
   "metadata": {},
   "source": [
    "#### Question - 11\n",
    "***\n",
    "What does the sentence import areallyourpetsnamederic do?"
   ]
  },
  {
   "cell_type": "markdown",
   "id": "stylish-likelihood",
   "metadata": {},
   "source": [
    "#### Answer :\n",
    "If areallyourpetsnamederic class is already created then it will try to import that particular class into current session and if it is not created then our program will encounter error stating \"no module areallyourpetsnamederic found\"."
   ]
  },
  {
   "cell_type": "markdown",
   "id": "japanese-occasions",
   "metadata": {},
   "source": [
    "#### Question - 12\n",
    "***\n",
    "If you had a bacon() feature in a spam module, what would you call it after importing spam?"
   ]
  },
  {
   "cell_type": "markdown",
   "id": "permanent-calgary",
   "metadata": {},
   "source": [
    "#### Answer :\n"
   ]
  },
  {
   "cell_type": "markdown",
   "id": "spanish-desert",
   "metadata": {},
   "source": [
    "#### Question - 13\n",
    "***\n",
    "What can you do to save a programme from crashing if it encounters an error?"
   ]
  },
  {
   "cell_type": "markdown",
   "id": "still-affair",
   "metadata": {},
   "source": [
    "#### Answer :\n",
    "By using try and catch block we can prevent our program to crash in terms of any error."
   ]
  },
  {
   "cell_type": "markdown",
   "id": "olive-remainder",
   "metadata": {},
   "source": [
    "#### Question - 14\n",
    "***\n",
    "What is the purpose of the try clause? What is the purpose of the except clause?"
   ]
  },
  {
   "cell_type": "markdown",
   "id": "cognitive-values",
   "metadata": {},
   "source": [
    "#### Answer :"
   ]
  },
  {
   "cell_type": "code",
   "execution_count": null,
   "id": "systematic-details",
   "metadata": {},
   "outputs": [],
   "source": []
  }
 ],
 "metadata": {
  "kernelspec": {
   "display_name": "Python 3",
   "language": "python",
   "name": "python3"
  },
  "language_info": {
   "codemirror_mode": {
    "name": "ipython",
    "version": 3
   },
   "file_extension": ".py",
   "mimetype": "text/x-python",
   "name": "python",
   "nbconvert_exporter": "python",
   "pygments_lexer": "ipython3",
   "version": "3.8.0"
  }
 },
 "nbformat": 4,
 "nbformat_minor": 5
}
